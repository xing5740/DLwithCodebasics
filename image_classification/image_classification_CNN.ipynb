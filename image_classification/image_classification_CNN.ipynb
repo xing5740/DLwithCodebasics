{
 "cells": [
  {
   "cell_type": "code",
   "execution_count": 1,
   "id": "ba34f7de",
   "metadata": {},
   "outputs": [],
   "source": [
    "import tensorflow as tf\n",
    "from tensorflow.keras import datasets, layers, models\n",
    "import matplotlib.pyplot as plt\n",
    "import numpy as np"
   ]
  },
  {
   "cell_type": "code",
   "execution_count": 2,
   "id": "c7cd2aa7",
   "metadata": {},
   "outputs": [],
   "source": [
    "(X_train, y_train), (X_test, y_test) = datasets.cifar10.load_data()"
   ]
  },
  {
   "cell_type": "code",
   "execution_count": 3,
   "id": "bd71785e",
   "metadata": {
    "scrolled": true
   },
   "outputs": [
    {
     "data": {
      "text/plain": [
       "((50000, 32, 32, 3), (10000, 32, 32, 3))"
      ]
     },
     "execution_count": 3,
     "metadata": {},
     "output_type": "execute_result"
    }
   ],
   "source": [
    "X_train.shape, X_test.shape"
   ]
  },
  {
   "cell_type": "code",
   "execution_count": 4,
   "id": "e6c88a11",
   "metadata": {},
   "outputs": [
    {
     "data": {
      "text/plain": [
       "array([[6],\n",
       "       [9],\n",
       "       [9],\n",
       "       [4],\n",
       "       [1]], dtype=uint8)"
      ]
     },
     "execution_count": 4,
     "metadata": {},
     "output_type": "execute_result"
    }
   ],
   "source": [
    "y_train[:5] # 2d array"
   ]
  },
  {
   "cell_type": "code",
   "execution_count": 5,
   "id": "fb516ca2",
   "metadata": {},
   "outputs": [
    {
     "data": {
      "text/plain": [
       "array([6, 9, 9, 4, 1], dtype=uint8)"
      ]
     },
     "execution_count": 5,
     "metadata": {},
     "output_type": "execute_result"
    }
   ],
   "source": [
    "y_train = y_train.reshape(-1,) # 2d to 1d\n",
    "y_test = y_test.reshape(-1,)\n",
    "y_train[:5]"
   ]
  },
  {
   "cell_type": "code",
   "execution_count": 6,
   "id": "eef6b9f0",
   "metadata": {},
   "outputs": [],
   "source": [
    "classes = [\"airplane\",\"automobile\",\"bird\",\"cat\",\"deer\",\"dog\",\"frog\",\"horse\",\"ship\",\"truck\"]"
   ]
  },
  {
   "cell_type": "code",
   "execution_count": 7,
   "id": "88841d42",
   "metadata": {},
   "outputs": [],
   "source": [
    "def plot_sample(X, y, index):\n",
    "    plt.figure(figsize=(15,2))\n",
    "    plt.imshow(X_train[index])\n",
    "    plt.xlabel(classes[y[index]])"
   ]
  },
  {
   "cell_type": "code",
   "execution_count": 8,
   "id": "3c2dee1a",
   "metadata": {},
   "outputs": [
    {
     "data": {
      "image/png": "[encoded data removed]",
      "text/plain": [
       "<Figure size 1500x200 with 1 Axes>"
      ]
     },
     "metadata": {},
     "output_type": "display_data"
    }
   ],
   "source": [
    "plot_sample(X_train, y_train, 3)"
   ]
  },
  {
   "cell_type": "code",
   "execution_count": 9,
   "id": "4ec293fa",
   "metadata": {},
   "outputs": [],
   "source": [
    "# normalize\n",
    "X_train = X_train / 255\n",
    "X_test = X_test / 255"
   ]
  },
  {
   "cell_type": "markdown",
   "id": "5b7e71da",
   "metadata": {},
   "source": [
    "# ANN"
   ]
  },
  {
   "cell_type": "code",
   "execution_count": 10,
   "id": "7d3a4aa9",
   "metadata": {},
   "outputs": [
    {
     "name": "stdout",
     "output_type": "stream",
     "text": [
      "Epoch 1/5\n",
      "1563/1563 [==============================] - 54s 35ms/step - loss: 1.8106 - accuracy: 0.3578\n",
      "Epoch 2/5\n",
      "1563/1563 [==============================] - 70s 45ms/step - loss: 1.6240 - accuracy: 0.4282\n",
      "Epoch 3/5\n",
      "1563/1563 [==============================] - 83s 53ms/step - loss: 1.5421 - accuracy: 0.4555\n",
      "Epoch 4/5\n",
      "1563/1563 [==============================] - 92s 59ms/step - loss: 1.4840 - accuracy: 0.4778\n",
      "Epoch 5/5\n",
      "1563/1563 [==============================] - 113s 72ms/step - loss: 1.4332 - accuracy: 0.4972\n"
     ]
    },
    {
     "data": {
      "text/plain": [
       "<keras.callbacks.History at 0x1d5c9c26490>"
      ]
     },
     "execution_count": 10,
     "metadata": {},
     "output_type": "execute_result"
    }
   ],
   "source": [
    "ann = models.Sequential([\n",
    "        layers.Flatten(input_shape=(32,32,3)),\n",
    "        layers.Dense(3000, activation='relu'),\n",
    "        layers.Dense(1000, activation='relu'),\n",
    "        layers.Dense(10, activation='sigmoid')    \n",
    "    ])\n",
    "\n",
    "ann.compile(optimizer='SGD',\n",
    "              loss='sparse_categorical_crossentropy',\n",
    "              metrics=['accuracy'])\n",
    "\n",
    "ann.fit(X_train, y_train, epochs=5)"
   ]
  },
  {
   "cell_type": "code",
   "execution_count": 11,
   "id": "2c952337",
   "metadata": {},
   "outputs": [
    {
     "name": "stdout",
     "output_type": "stream",
     "text": [
      "313/313 [==============================] - 9s 26ms/step - loss: 1.4885 - accuracy: 0.4726\n"
     ]
    },
    {
     "data": {
      "text/plain": [
       "[1.4885354042053223, 0.4726000130176544]"
      ]
     },
     "execution_count": 11,
     "metadata": {},
     "output_type": "execute_result"
    }
   ],
   "source": [
    "ann.evaluate(X_test, y_test)"
   ]
  },
  {
   "cell_type": "code",
   "execution_count": 12,
   "id": "58853b15",
   "metadata": {
    "scrolled": true
   },
   "outputs": [
    {
     "name": "stdout",
     "output_type": "stream",
     "text": [
      "313/313 [==============================] - 12s 36ms/step\n",
      "Classification Report: \n",
      "               precision    recall  f1-score   support\n",
      "\n",
      "           0       0.71      0.36      0.48      1000\n",
      "           1       0.71      0.42      0.53      1000\n",
      "           2       0.47      0.13      0.20      1000\n",
      "           3       0.29      0.50      0.36      1000\n",
      "           4       0.44      0.44      0.44      1000\n",
      "           5       0.39      0.36      0.37      1000\n",
      "           6       0.46      0.62      0.52      1000\n",
      "           7       0.56      0.56      0.56      1000\n",
      "           8       0.50      0.73      0.60      1000\n",
      "           9       0.53      0.60      0.57      1000\n",
      "\n",
      "    accuracy                           0.47     10000\n",
      "   macro avg       0.51      0.47      0.46     10000\n",
      "weighted avg       0.51      0.47      0.46     10000\n",
      "\n"
     ]
    }
   ],
   "source": [
    "from sklearn.metrics import confusion_matrix , classification_report\n",
    "import numpy as np\n",
    "y_pred = ann.predict(X_test)\n",
    "y_pred_classes = [np.argmax(element) for element in y_pred]\n",
    "\n",
    "print(\"Classification Report: \\n\", classification_report(y_test, y_pred_classes))"
   ]
  },
  {
   "cell_type": "markdown",
   "id": "f3619b80",
   "metadata": {},
   "source": [
    "# CNN"
   ]
  },
  {
   "cell_type": "code",
   "execution_count": 13,
   "id": "4fca2e2d",
   "metadata": {},
   "outputs": [
    {
     "name": "stdout",
     "output_type": "stream",
     "text": [
      "Epoch 1/10\n",
      "1563/1563 [==============================] - 53s 33ms/step - loss: 1.4734 - accuracy: 0.4709\n",
      "Epoch 2/10\n",
      "1563/1563 [==============================] - 48s 30ms/step - loss: 1.1132 - accuracy: 0.6113\n",
      "Epoch 3/10\n",
      "1563/1563 [==============================] - 48s 31ms/step - loss: 0.9883 - accuracy: 0.6567\n",
      "Epoch 4/10\n",
      "1563/1563 [==============================] - 44s 28ms/step - loss: 0.9099 - accuracy: 0.6860\n",
      "Epoch 5/10\n",
      "1563/1563 [==============================] - 45s 29ms/step - loss: 0.8415 - accuracy: 0.7070\n",
      "Epoch 6/10\n",
      "1563/1563 [==============================] - 49s 31ms/step - loss: 0.7912 - accuracy: 0.7230\n",
      "Epoch 7/10\n",
      "1563/1563 [==============================] - 41s 26ms/step - loss: 0.7395 - accuracy: 0.7414\n",
      "Epoch 8/10\n",
      "1563/1563 [==============================] - 41s 26ms/step - loss: 0.6964 - accuracy: 0.7552\n",
      "Epoch 9/10\n",
      "1563/1563 [==============================] - 48s 31ms/step - loss: 0.6600 - accuracy: 0.7681\n",
      "Epoch 10/10\n",
      "1563/1563 [==============================] - 54s 34ms/step - loss: 0.6274 - accuracy: 0.7807\n"
     ]
    },
    {
     "data": {
      "text/plain": [
       "<keras.callbacks.History at 0x1d5c9c34a30>"
      ]
     },
     "execution_count": 13,
     "metadata": {},
     "output_type": "execute_result"
    }
   ],
   "source": [
    "cnn = models.Sequential([\n",
    "    # cnn\n",
    "    layers.Conv2D(filters=32, kernel_size=(3, 3), activation='relu', input_shape=(32, 32, 3)),\n",
    "    layers.MaxPooling2D((2, 2)),\n",
    "    \n",
    "    layers.Conv2D(filters=64, kernel_size=(3, 3), activation='relu'),\n",
    "    layers.MaxPooling2D((2, 2)),\n",
    "        \n",
    "    # dense\n",
    "    layers.Flatten(input_shape=(32,32,3)),\n",
    "    layers.Dense(64, activation='relu'),\n",
    "    layers.Dense(10, activation='softmax') # normalize probability\n",
    "])\n",
    "\n",
    "cnn.compile(optimizer='adam',\n",
    "              loss='sparse_categorical_crossentropy',\n",
    "              metrics=['accuracy'])\n",
    "\n",
    "cnn.fit(X_train, y_train, epochs=10)"
   ]
  },
  {
   "cell_type": "code",
   "execution_count": 14,
   "id": "1f7ff502",
   "metadata": {
    "scrolled": true
   },
   "outputs": [
    {
     "name": "stdout",
     "output_type": "stream",
     "text": [
      "313/313 [==============================] - 4s 11ms/step - loss: 0.9587 - accuracy: 0.6863\n"
     ]
    },
    {
     "data": {
      "text/plain": [
       "[0.9586526155471802, 0.6862999796867371]"
      ]
     },
     "execution_count": 14,
     "metadata": {},
     "output_type": "execute_result"
    }
   ],
   "source": [
    "cnn.evaluate(X_test, y_test)"
   ]
  },
  {
   "cell_type": "code",
   "execution_count": 15,
   "id": "05f69b6e",
   "metadata": {},
   "outputs": [
    {
     "name": "stdout",
     "output_type": "stream",
     "text": [
      "313/313 [==============================] - 3s 10ms/step\n"
     ]
    },
    {
     "data": {
      "text/plain": [
       "array([[1.2187404e-03, 1.7236787e-05, 8.6408574e-03, 8.3377463e-01,\n",
       "        3.9072116e-04, 1.4772414e-01, 2.9390934e-03, 8.0333870e-05,\n",
       "        5.2090320e-03, 5.2178439e-06],\n",
       "       [4.2050201e-03, 8.0256903e-01, 2.1065865e-05, 1.8131866e-06,\n",
       "        1.0242946e-07, 4.5921107e-09, 2.7701264e-08, 7.1387980e-08,\n",
       "        1.8900454e-01, 4.1983486e-03],\n",
       "       [3.7475031e-02, 8.1002280e-02, 2.9335951e-03, 2.0657759e-03,\n",
       "        4.3104996e-04, 8.6528344e-05, 7.3796581e-04, 2.6218397e-05,\n",
       "        8.7260413e-01, 2.6373791e-03],\n",
       "       [7.2865701e-01, 1.2790185e-01, 8.1954803e-03, 1.1491886e-03,\n",
       "        8.1814935e-05, 2.9095190e-05, 4.4852824e-04, 4.2841904e-05,\n",
       "        1.2718102e-01, 6.3131759e-03],\n",
       "       [5.5748301e-06, 4.0113232e-06, 1.5442667e-02, 2.2650876e-03,\n",
       "        5.7589990e-01, 1.8193617e-03, 4.0453863e-01, 8.4664835e-06,\n",
       "        1.5619171e-05, 7.0495338e-07]], dtype=float32)"
      ]
     },
     "execution_count": 15,
     "metadata": {},
     "output_type": "execute_result"
    }
   ],
   "source": [
    "y_pred = cnn.predict(X_test)\n",
    "y_pred[:5]"
   ]
  },
  {
   "cell_type": "code",
   "execution_count": 16,
   "id": "1340c955",
   "metadata": {},
   "outputs": [
    {
     "data": {
      "text/plain": [
       "array([3, 8, 8, 0, 6], dtype=uint8)"
      ]
     },
     "execution_count": 16,
     "metadata": {},
     "output_type": "execute_result"
    }
   ],
   "source": [
    "y_test[:5]"
   ]
  },
  {
   "cell_type": "code",
   "execution_count": 17,
   "id": "54c79992",
   "metadata": {},
   "outputs": [
    {
     "data": {
      "text/plain": [
       "[3, 1, 8, 0, 4]"
      ]
     },
     "execution_count": 17,
     "metadata": {},
     "output_type": "execute_result"
    }
   ],
   "source": [
    "y_classes = [np.argmax(element) for element in y_pred]\n",
    "# argmax: index of largest element\n",
    "y_classes[:5]"
   ]
  },
  {
   "cell_type": "code",
   "execution_count": 31,
   "id": "927199b3",
   "metadata": {},
   "outputs": [
    {
     "data": {
      "image/png": "[encoded data removed]",
      "text/plain": [
       "<Figure size 1500x200 with 1 Axes>"
      ]
     },
     "metadata": {},
     "output_type": "display_data"
    }
   ],
   "source": [
    "plot_sample(X_test, y_test,20)"
   ]
  },
  {
   "cell_type": "code",
   "execution_count": 32,
   "id": "71043038",
   "metadata": {},
   "outputs": [
    {
     "data": {
      "text/plain": [
       "'horse'"
      ]
     },
     "execution_count": 32,
     "metadata": {},
     "output_type": "execute_result"
    }
   ],
   "source": [
    "classes[y_classes[20]]"
   ]
  },
  {
   "cell_type": "code",
   "execution_count": 21,
   "id": "b7ca9b9d",
   "metadata": {},
   "outputs": [
    {
     "name": "stdout",
     "output_type": "stream",
     "text": [
      "Classification Report: \n",
      "               precision    recall  f1-score   support\n",
      "\n",
      "           0       0.69      0.76      0.72      1000\n",
      "           1       0.73      0.88      0.80      1000\n",
      "           2       0.49      0.69      0.57      1000\n",
      "           3       0.56      0.46      0.51      1000\n",
      "           4       0.67      0.54      0.60      1000\n",
      "           5       0.65      0.56      0.60      1000\n",
      "           6       0.79      0.73      0.76      1000\n",
      "           7       0.71      0.78      0.74      1000\n",
      "           8       0.81      0.79      0.80      1000\n",
      "           9       0.84      0.68      0.75      1000\n",
      "\n",
      "    accuracy                           0.69     10000\n",
      "   macro avg       0.69      0.69      0.69     10000\n",
      "weighted avg       0.69      0.69      0.69     10000\n",
      "\n"
     ]
    }
   ],
   "source": [
    "print(\"Classification Report: \\n\", classification_report(y_test, y_classes))"
   ]
  }
 ],
 "metadata": {
  "kernelspec": {
   "display_name": "Python 3 (ipykernel)",
   "language": "python",
   "name": "python3"
  },
  "language_info": {
   "codemirror_mode": {
    "name": "ipython",
    "version": 3
   },
   "file_extension": ".py",
   "mimetype": "text/x-python",
   "name": "python",
   "nbconvert_exporter": "python",
   "pygments_lexer": "ipython3",
   "version": "3.9.6"
  }
 },
 "nbformat": 4,
 "nbformat_minor": 5
}
