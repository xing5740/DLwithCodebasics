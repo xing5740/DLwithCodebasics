{
 "cells": [
  {
   "cell_type": "code",
   "execution_count": 1,
   "id": "e367c287",
   "metadata": {},
   "outputs": [],
   "source": [
    "import numpy as np"
   ]
  },
  {
   "cell_type": "code",
   "execution_count": 2,
   "id": "0c029d36",
   "metadata": {},
   "outputs": [
    {
     "data": {
      "text/plain": [
       "array([[ 20, 110, 120],\n",
       "       [ 14,  20,  20],\n",
       "       [  4,   8,  10]])"
      ]
     },
     "execution_count": 2,
     "metadata": {},
     "output_type": "execute_result"
    }
   ],
   "source": [
    "revenue = np.array([[100,200,220],[24,36,40],[12,18,20]])\n",
    "expenses = np.array([[80,90,100],[10,16,20],[8,10,10]])\n",
    "\n",
    "profit = revenue - expenses\n",
    "profit"
   ]
  },
  {
   "cell_type": "code",
   "execution_count": 15,
   "id": "8e17be06",
   "metadata": {},
   "outputs": [
    {
     "data": {
      "text/plain": [
       "array([[30000, 16000, 60000],\n",
       "       [ 5000,  4000, 18000],\n",
       "       [ 2000,  2000,  8400]])"
      ]
     },
     "execution_count": 15,
     "metadata": {},
     "output_type": "execute_result"
    }
   ],
   "source": [
    "price_per_unit = np.array([1000,400,1200])\n",
    "units = np.array([[30,40,50],[5,10,15],[2,5,7]])\n",
    "# matrix broadcasting\n",
    "# price_per_unit = np.array([[1000,400,1200],[1000,400,1200],[1000,400,1200]])\n",
    "\n",
    "price_per_unit * units"
   ]
  },
  {
   "cell_type": "code",
   "execution_count": 16,
   "id": "ecdb7f53",
   "metadata": {},
   "outputs": [
    {
     "data": {
      "text/plain": [
       "array([[30, 40, 50],\n",
       "       [ 5, 10, 15],\n",
       "       [ 2,  5,  7]])"
      ]
     },
     "execution_count": 16,
     "metadata": {},
     "output_type": "execute_result"
    }
   ],
   "source": [
    "units"
   ]
  },
  {
   "cell_type": "code",
   "execution_count": 17,
   "id": "31e152bd",
   "metadata": {},
   "outputs": [
    {
     "data": {
      "text/plain": [
       "array([[30000, 16000, 60000],\n",
       "       [ 5000,  4000, 18000],\n",
       "       [ 2000,  2000,  8400]])"
      ]
     },
     "execution_count": 17,
     "metadata": {},
     "output_type": "execute_result"
    }
   ],
   "source": [
    "units * price_per_unit"
   ]
  },
  {
   "cell_type": "code",
   "execution_count": 5,
   "id": "10fc072f",
   "metadata": {},
   "outputs": [
    {
     "data": {
      "text/plain": [
       "array([34400, 50000, 64400])"
      ]
     },
     "execution_count": 5,
     "metadata": {},
     "output_type": "execute_result"
    }
   ],
   "source": [
    "np.dot(price_per_unit, units)\n",
    "\n",
    "# 34400 = 1000*30 + 400*5 + 1200*2"
   ]
  },
  {
   "cell_type": "code",
   "execution_count": 6,
   "id": "6ffa4669",
   "metadata": {},
   "outputs": [
    {
     "data": {
      "text/plain": [
       "array([[ 7, 14, 21],\n",
       "       [14, 21, 28],\n",
       "       [21, 28, 35],\n",
       "       [28, 35, 42]])"
      ]
     },
     "execution_count": 6,
     "metadata": {},
     "output_type": "execute_result"
    }
   ],
   "source": [
    "revenue = np.array([[1,2,3], [2,3,4], [3,4,5], [4,5,6]])\n",
    "\n",
    "revenue * 7"
   ]
  },
  {
   "cell_type": "code",
   "execution_count": 7,
   "id": "a045dedf",
   "metadata": {},
   "outputs": [
    {
     "data": {
      "text/plain": [
       "array([[1000, 1200,  500],\n",
       "       [ 300,  390,  150],\n",
       "       [ 600, 1050,  780]])"
      ]
     },
     "execution_count": 7,
     "metadata": {},
     "output_type": "execute_result"
    }
   ],
   "source": [
    "flower = np.array([[50,60,25], [10,13,5], [40,70,52]])\n",
    "price_per_unit = np.array([20,30,15])\n",
    "\n",
    "np.transpose(np.transpose(flower) * price_per_unit)"
   ]
  },
  {
   "cell_type": "code",
   "execution_count": 8,
   "id": "74c9c646",
   "metadata": {},
   "outputs": [
    {
     "data": {
      "text/plain": [
       "array([[50, 60, 25],\n",
       "       [10, 13,  5],\n",
       "       [40, 70, 52]])"
      ]
     },
     "execution_count": 8,
     "metadata": {},
     "output_type": "execute_result"
    }
   ],
   "source": [
    "flower"
   ]
  },
  {
   "cell_type": "code",
   "execution_count": 9,
   "id": "f80ef246",
   "metadata": {},
   "outputs": [
    {
     "data": {
      "text/plain": [
       "array([20, 30, 15])"
      ]
     },
     "execution_count": 9,
     "metadata": {},
     "output_type": "execute_result"
    }
   ],
   "source": [
    "np.transpose(price_per_unit)"
   ]
  },
  {
   "cell_type": "code",
   "execution_count": 10,
   "id": "72fb27c5",
   "metadata": {},
   "outputs": [
    {
     "data": {
      "text/plain": [
       "array([1900, 2640, 1430])"
      ]
     },
     "execution_count": 10,
     "metadata": {},
     "output_type": "execute_result"
    }
   ],
   "source": [
    "np.dot(np.transpose(price_per_unit), flower)"
   ]
  }
 ],
 "metadata": {
  "kernelspec": {
   "display_name": "Python 3 (ipykernel)",
   "language": "python",
   "name": "python3"
  },
  "language_info": {
   "codemirror_mode": {
    "name": "ipython",
    "version": 3
   },
   "file_extension": ".py",
   "mimetype": "text/x-python",
   "name": "python",
   "nbconvert_exporter": "python",
   "pygments_lexer": "ipython3",
   "version": "3.9.6"
  }
 },
 "nbformat": 4,
 "nbformat_minor": 5
}
