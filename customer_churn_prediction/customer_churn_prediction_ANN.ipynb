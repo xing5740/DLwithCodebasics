{
 "cells": [
  {
   "cell_type": "code",
   "execution_count": 1,
   "id": "6a184b50",
   "metadata": {},
   "outputs": [],
   "source": [
    "import pandas as pd\n",
    "import matplotlib.pyplot as plt\n",
    "import numpy as np\n",
    "%matplotlib inline"
   ]
  },
  {
   "cell_type": "code",
   "execution_count": 2,
   "id": "9d18cc02",
   "metadata": {},
   "outputs": [
    {
     "data": {
      "text/html": [
       "<div>\n",
       "<style scoped>\n",
       "    .dataframe tbody tr th:only-of-type {\n",
       "        vertical-align: middle;\n",
       "    }\n",
       "\n",
       "    .dataframe tbody tr th {\n",
       "        vertical-align: top;\n",
       "    }\n",
       "\n",
       "    .dataframe thead th {\n",
       "        text-align: right;\n",
       "    }\n",
       "</style>\n",
       "<table border=\"1\" class=\"dataframe\">\n",
       "  <thead>\n",
       "    <tr style=\"text-align: right;\">\n",
       "      <th></th>\n",
       "      <th>customerID</th>\n",
       "      <th>gender</th>\n",
       "      <th>SeniorCitizen</th>\n",
       "      <th>Partner</th>\n",
       "      <th>Dependents</th>\n",
       "      <th>tenure</th>\n",
       "      <th>PhoneService</th>\n",
       "      <th>MultipleLines</th>\n",
       "      <th>InternetService</th>\n",
       "      <th>OnlineSecurity</th>\n",
       "      <th>...</th>\n",
       "      <th>DeviceProtection</th>\n",
       "      <th>TechSupport</th>\n",
       "      <th>StreamingTV</th>\n",
       "      <th>StreamingMovies</th>\n",
       "      <th>Contract</th>\n",
       "      <th>PaperlessBilling</th>\n",
       "      <th>PaymentMethod</th>\n",
       "      <th>MonthlyCharges</th>\n",
       "      <th>TotalCharges</th>\n",
       "      <th>Churn</th>\n",
       "    </tr>\n",
       "  </thead>\n",
       "  <tbody>\n",
       "    <tr>\n",
       "      <th>5728</th>\n",
       "      <td>3374-LXDEV</td>\n",
       "      <td>Female</td>\n",
       "      <td>0</td>\n",
       "      <td>No</td>\n",
       "      <td>No</td>\n",
       "      <td>13</td>\n",
       "      <td>Yes</td>\n",
       "      <td>Yes</td>\n",
       "      <td>Fiber optic</td>\n",
       "      <td>No</td>\n",
       "      <td>...</td>\n",
       "      <td>Yes</td>\n",
       "      <td>Yes</td>\n",
       "      <td>No</td>\n",
       "      <td>No</td>\n",
       "      <td>Month-to-month</td>\n",
       "      <td>No</td>\n",
       "      <td>Electronic check</td>\n",
       "      <td>89.40</td>\n",
       "      <td>1132.35</td>\n",
       "      <td>Yes</td>\n",
       "    </tr>\n",
       "    <tr>\n",
       "      <th>820</th>\n",
       "      <td>4220-TINQT</td>\n",
       "      <td>Female</td>\n",
       "      <td>0</td>\n",
       "      <td>Yes</td>\n",
       "      <td>No</td>\n",
       "      <td>61</td>\n",
       "      <td>Yes</td>\n",
       "      <td>Yes</td>\n",
       "      <td>Fiber optic</td>\n",
       "      <td>No</td>\n",
       "      <td>...</td>\n",
       "      <td>Yes</td>\n",
       "      <td>Yes</td>\n",
       "      <td>Yes</td>\n",
       "      <td>Yes</td>\n",
       "      <td>Month-to-month</td>\n",
       "      <td>Yes</td>\n",
       "      <td>Electronic check</td>\n",
       "      <td>106.35</td>\n",
       "      <td>6751.35</td>\n",
       "      <td>No</td>\n",
       "    </tr>\n",
       "    <tr>\n",
       "      <th>740</th>\n",
       "      <td>4381-MHQDC</td>\n",
       "      <td>Female</td>\n",
       "      <td>0</td>\n",
       "      <td>No</td>\n",
       "      <td>No</td>\n",
       "      <td>47</td>\n",
       "      <td>Yes</td>\n",
       "      <td>Yes</td>\n",
       "      <td>DSL</td>\n",
       "      <td>Yes</td>\n",
       "      <td>...</td>\n",
       "      <td>Yes</td>\n",
       "      <td>Yes</td>\n",
       "      <td>No</td>\n",
       "      <td>No</td>\n",
       "      <td>Two year</td>\n",
       "      <td>Yes</td>\n",
       "      <td>Mailed check</td>\n",
       "      <td>65.00</td>\n",
       "      <td>2879.9</td>\n",
       "      <td>No</td>\n",
       "    </tr>\n",
       "    <tr>\n",
       "      <th>2807</th>\n",
       "      <td>1015-JPFYW</td>\n",
       "      <td>Male</td>\n",
       "      <td>0</td>\n",
       "      <td>No</td>\n",
       "      <td>Yes</td>\n",
       "      <td>7</td>\n",
       "      <td>Yes</td>\n",
       "      <td>No</td>\n",
       "      <td>No</td>\n",
       "      <td>No internet service</td>\n",
       "      <td>...</td>\n",
       "      <td>No internet service</td>\n",
       "      <td>No internet service</td>\n",
       "      <td>No internet service</td>\n",
       "      <td>No internet service</td>\n",
       "      <td>One year</td>\n",
       "      <td>No</td>\n",
       "      <td>Mailed check</td>\n",
       "      <td>19.45</td>\n",
       "      <td>136.75</td>\n",
       "      <td>No</td>\n",
       "    </tr>\n",
       "    <tr>\n",
       "      <th>5568</th>\n",
       "      <td>2270-CHBFN</td>\n",
       "      <td>Female</td>\n",
       "      <td>0</td>\n",
       "      <td>Yes</td>\n",
       "      <td>No</td>\n",
       "      <td>44</td>\n",
       "      <td>Yes</td>\n",
       "      <td>Yes</td>\n",
       "      <td>Fiber optic</td>\n",
       "      <td>Yes</td>\n",
       "      <td>...</td>\n",
       "      <td>Yes</td>\n",
       "      <td>Yes</td>\n",
       "      <td>No</td>\n",
       "      <td>No</td>\n",
       "      <td>Month-to-month</td>\n",
       "      <td>Yes</td>\n",
       "      <td>Credit card (automatic)</td>\n",
       "      <td>95.10</td>\n",
       "      <td>4060.55</td>\n",
       "      <td>No</td>\n",
       "    </tr>\n",
       "  </tbody>\n",
       "</table>\n",
       "<p>5 rows × 21 columns</p>\n",
       "</div>"
      ],
      "text/plain": [
       "      customerID  gender  SeniorCitizen Partner Dependents  tenure  \\\n",
       "5728  3374-LXDEV  Female              0      No         No      13   \n",
       "820   4220-TINQT  Female              0     Yes         No      61   \n",
       "740   4381-MHQDC  Female              0      No         No      47   \n",
       "2807  1015-JPFYW    Male              0      No        Yes       7   \n",
       "5568  2270-CHBFN  Female              0     Yes         No      44   \n",
       "\n",
       "     PhoneService MultipleLines InternetService       OnlineSecurity  ...  \\\n",
       "5728          Yes           Yes     Fiber optic                   No  ...   \n",
       "820           Yes           Yes     Fiber optic                   No  ...   \n",
       "740           Yes           Yes             DSL                  Yes  ...   \n",
       "2807          Yes            No              No  No internet service  ...   \n",
       "5568          Yes           Yes     Fiber optic                  Yes  ...   \n",
       "\n",
       "         DeviceProtection          TechSupport          StreamingTV  \\\n",
       "5728                  Yes                  Yes                   No   \n",
       "820                   Yes                  Yes                  Yes   \n",
       "740                   Yes                  Yes                   No   \n",
       "2807  No internet service  No internet service  No internet service   \n",
       "5568                  Yes                  Yes                   No   \n",
       "\n",
       "          StreamingMovies        Contract PaperlessBilling  \\\n",
       "5728                   No  Month-to-month               No   \n",
       "820                   Yes  Month-to-month              Yes   \n",
       "740                    No        Two year              Yes   \n",
       "2807  No internet service        One year               No   \n",
       "5568                   No  Month-to-month              Yes   \n",
       "\n",
       "                PaymentMethod MonthlyCharges  TotalCharges Churn  \n",
       "5728         Electronic check          89.40       1132.35   Yes  \n",
       "820          Electronic check         106.35       6751.35    No  \n",
       "740              Mailed check          65.00        2879.9    No  \n",
       "2807             Mailed check          19.45        136.75    No  \n",
       "5568  Credit card (automatic)          95.10       4060.55    No  \n",
       "\n",
       "[5 rows x 21 columns]"
      ]
     },
     "execution_count": 2,
     "metadata": {},
     "output_type": "execute_result"
    }
   ],
   "source": [
    "df = pd.read_csv(\"customer_churn.csv\")\n",
    "df.sample(5)"
   ]
  },
  {
   "cell_type": "markdown",
   "id": "679d3bb3",
   "metadata": {},
   "source": [
    "# Processing Data"
   ]
  },
  {
   "cell_type": "code",
   "execution_count": 3,
   "id": "80d58b47",
   "metadata": {},
   "outputs": [
    {
     "data": {
      "text/plain": [
       "gender               object\n",
       "SeniorCitizen         int64\n",
       "Partner              object\n",
       "Dependents           object\n",
       "tenure                int64\n",
       "PhoneService         object\n",
       "MultipleLines        object\n",
       "InternetService      object\n",
       "OnlineSecurity       object\n",
       "OnlineBackup         object\n",
       "DeviceProtection     object\n",
       "TechSupport          object\n",
       "StreamingTV          object\n",
       "StreamingMovies      object\n",
       "Contract             object\n",
       "PaperlessBilling     object\n",
       "PaymentMethod        object\n",
       "MonthlyCharges      float64\n",
       "TotalCharges         object\n",
       "Churn                object\n",
       "dtype: object"
      ]
     },
     "execution_count": 3,
     "metadata": {},
     "output_type": "execute_result"
    }
   ],
   "source": [
    "df.drop('customerID', axis='columns', inplace=True)\n",
    "df.dtypes"
   ]
  },
  {
   "cell_type": "code",
   "execution_count": 4,
   "id": "433dbe76",
   "metadata": {},
   "outputs": [
    {
     "data": {
      "text/plain": [
       "array(['29.85', '1889.5', '108.15', ..., '346.45', '306.6', '6844.5'],\n",
       "      dtype=object)"
      ]
     },
     "execution_count": 4,
     "metadata": {},
     "output_type": "execute_result"
    }
   ],
   "source": [
    "df.TotalCharges.values # should be float"
   ]
  },
  {
   "cell_type": "code",
   "execution_count": 5,
   "id": "7bd1af8a",
   "metadata": {},
   "outputs": [
    {
     "data": {
      "text/plain": [
       "0       False\n",
       "1       False\n",
       "2       False\n",
       "3       False\n",
       "4       False\n",
       "        ...  \n",
       "7038    False\n",
       "7039    False\n",
       "7040    False\n",
       "7041    False\n",
       "7042    False\n",
       "Name: TotalCharges, Length: 7043, dtype: bool"
      ]
     },
     "execution_count": 5,
     "metadata": {},
     "output_type": "execute_result"
    }
   ],
   "source": [
    "pd.to_numeric(df.TotalCharges, errors='coerce').isnull()\n",
    "# coerce: ignore error"
   ]
  },
  {
   "cell_type": "code",
   "execution_count": 6,
   "id": "952c0e28",
   "metadata": {},
   "outputs": [
    {
     "data": {
      "text/html": [
       "<div>\n",
       "<style scoped>\n",
       "    .dataframe tbody tr th:only-of-type {\n",
       "        vertical-align: middle;\n",
       "    }\n",
       "\n",
       "    .dataframe tbody tr th {\n",
       "        vertical-align: top;\n",
       "    }\n",
       "\n",
       "    .dataframe thead th {\n",
       "        text-align: right;\n",
       "    }\n",
       "</style>\n",
       "<table border=\"1\" class=\"dataframe\">\n",
       "  <thead>\n",
       "    <tr style=\"text-align: right;\">\n",
       "      <th></th>\n",
       "      <th>gender</th>\n",
       "      <th>SeniorCitizen</th>\n",
       "      <th>Partner</th>\n",
       "      <th>Dependents</th>\n",
       "      <th>tenure</th>\n",
       "      <th>PhoneService</th>\n",
       "      <th>MultipleLines</th>\n",
       "      <th>InternetService</th>\n",
       "      <th>OnlineSecurity</th>\n",
       "      <th>OnlineBackup</th>\n",
       "      <th>DeviceProtection</th>\n",
       "      <th>TechSupport</th>\n",
       "      <th>StreamingTV</th>\n",
       "      <th>StreamingMovies</th>\n",
       "      <th>Contract</th>\n",
       "      <th>PaperlessBilling</th>\n",
       "      <th>PaymentMethod</th>\n",
       "      <th>MonthlyCharges</th>\n",
       "      <th>TotalCharges</th>\n",
       "      <th>Churn</th>\n",
       "    </tr>\n",
       "  </thead>\n",
       "  <tbody>\n",
       "    <tr>\n",
       "      <th>488</th>\n",
       "      <td>Female</td>\n",
       "      <td>0</td>\n",
       "      <td>Yes</td>\n",
       "      <td>Yes</td>\n",
       "      <td>0</td>\n",
       "      <td>No</td>\n",
       "      <td>No phone service</td>\n",
       "      <td>DSL</td>\n",
       "      <td>Yes</td>\n",
       "      <td>No</td>\n",
       "      <td>Yes</td>\n",
       "      <td>Yes</td>\n",
       "      <td>Yes</td>\n",
       "      <td>No</td>\n",
       "      <td>Two year</td>\n",
       "      <td>Yes</td>\n",
       "      <td>Bank transfer (automatic)</td>\n",
       "      <td>52.55</td>\n",
       "      <td></td>\n",
       "      <td>No</td>\n",
       "    </tr>\n",
       "    <tr>\n",
       "      <th>753</th>\n",
       "      <td>Male</td>\n",
       "      <td>0</td>\n",
       "      <td>No</td>\n",
       "      <td>Yes</td>\n",
       "      <td>0</td>\n",
       "      <td>Yes</td>\n",
       "      <td>No</td>\n",
       "      <td>No</td>\n",
       "      <td>No internet service</td>\n",
       "      <td>No internet service</td>\n",
       "      <td>No internet service</td>\n",
       "      <td>No internet service</td>\n",
       "      <td>No internet service</td>\n",
       "      <td>No internet service</td>\n",
       "      <td>Two year</td>\n",
       "      <td>No</td>\n",
       "      <td>Mailed check</td>\n",
       "      <td>20.25</td>\n",
       "      <td></td>\n",
       "      <td>No</td>\n",
       "    </tr>\n",
       "    <tr>\n",
       "      <th>936</th>\n",
       "      <td>Female</td>\n",
       "      <td>0</td>\n",
       "      <td>Yes</td>\n",
       "      <td>Yes</td>\n",
       "      <td>0</td>\n",
       "      <td>Yes</td>\n",
       "      <td>No</td>\n",
       "      <td>DSL</td>\n",
       "      <td>Yes</td>\n",
       "      <td>Yes</td>\n",
       "      <td>Yes</td>\n",
       "      <td>No</td>\n",
       "      <td>Yes</td>\n",
       "      <td>Yes</td>\n",
       "      <td>Two year</td>\n",
       "      <td>No</td>\n",
       "      <td>Mailed check</td>\n",
       "      <td>80.85</td>\n",
       "      <td></td>\n",
       "      <td>No</td>\n",
       "    </tr>\n",
       "    <tr>\n",
       "      <th>1082</th>\n",
       "      <td>Male</td>\n",
       "      <td>0</td>\n",
       "      <td>Yes</td>\n",
       "      <td>Yes</td>\n",
       "      <td>0</td>\n",
       "      <td>Yes</td>\n",
       "      <td>Yes</td>\n",
       "      <td>No</td>\n",
       "      <td>No internet service</td>\n",
       "      <td>No internet service</td>\n",
       "      <td>No internet service</td>\n",
       "      <td>No internet service</td>\n",
       "      <td>No internet service</td>\n",
       "      <td>No internet service</td>\n",
       "      <td>Two year</td>\n",
       "      <td>No</td>\n",
       "      <td>Mailed check</td>\n",
       "      <td>25.75</td>\n",
       "      <td></td>\n",
       "      <td>No</td>\n",
       "    </tr>\n",
       "    <tr>\n",
       "      <th>1340</th>\n",
       "      <td>Female</td>\n",
       "      <td>0</td>\n",
       "      <td>Yes</td>\n",
       "      <td>Yes</td>\n",
       "      <td>0</td>\n",
       "      <td>No</td>\n",
       "      <td>No phone service</td>\n",
       "      <td>DSL</td>\n",
       "      <td>Yes</td>\n",
       "      <td>Yes</td>\n",
       "      <td>Yes</td>\n",
       "      <td>Yes</td>\n",
       "      <td>Yes</td>\n",
       "      <td>No</td>\n",
       "      <td>Two year</td>\n",
       "      <td>No</td>\n",
       "      <td>Credit card (automatic)</td>\n",
       "      <td>56.05</td>\n",
       "      <td></td>\n",
       "      <td>No</td>\n",
       "    </tr>\n",
       "    <tr>\n",
       "      <th>3331</th>\n",
       "      <td>Male</td>\n",
       "      <td>0</td>\n",
       "      <td>Yes</td>\n",
       "      <td>Yes</td>\n",
       "      <td>0</td>\n",
       "      <td>Yes</td>\n",
       "      <td>No</td>\n",
       "      <td>No</td>\n",
       "      <td>No internet service</td>\n",
       "      <td>No internet service</td>\n",
       "      <td>No internet service</td>\n",
       "      <td>No internet service</td>\n",
       "      <td>No internet service</td>\n",
       "      <td>No internet service</td>\n",
       "      <td>Two year</td>\n",
       "      <td>No</td>\n",
       "      <td>Mailed check</td>\n",
       "      <td>19.85</td>\n",
       "      <td></td>\n",
       "      <td>No</td>\n",
       "    </tr>\n",
       "    <tr>\n",
       "      <th>3826</th>\n",
       "      <td>Male</td>\n",
       "      <td>0</td>\n",
       "      <td>Yes</td>\n",
       "      <td>Yes</td>\n",
       "      <td>0</td>\n",
       "      <td>Yes</td>\n",
       "      <td>Yes</td>\n",
       "      <td>No</td>\n",
       "      <td>No internet service</td>\n",
       "      <td>No internet service</td>\n",
       "      <td>No internet service</td>\n",
       "      <td>No internet service</td>\n",
       "      <td>No internet service</td>\n",
       "      <td>No internet service</td>\n",
       "      <td>Two year</td>\n",
       "      <td>No</td>\n",
       "      <td>Mailed check</td>\n",
       "      <td>25.35</td>\n",
       "      <td></td>\n",
       "      <td>No</td>\n",
       "    </tr>\n",
       "    <tr>\n",
       "      <th>4380</th>\n",
       "      <td>Female</td>\n",
       "      <td>0</td>\n",
       "      <td>Yes</td>\n",
       "      <td>Yes</td>\n",
       "      <td>0</td>\n",
       "      <td>Yes</td>\n",
       "      <td>No</td>\n",
       "      <td>No</td>\n",
       "      <td>No internet service</td>\n",
       "      <td>No internet service</td>\n",
       "      <td>No internet service</td>\n",
       "      <td>No internet service</td>\n",
       "      <td>No internet service</td>\n",
       "      <td>No internet service</td>\n",
       "      <td>Two year</td>\n",
       "      <td>No</td>\n",
       "      <td>Mailed check</td>\n",
       "      <td>20.00</td>\n",
       "      <td></td>\n",
       "      <td>No</td>\n",
       "    </tr>\n",
       "    <tr>\n",
       "      <th>5218</th>\n",
       "      <td>Male</td>\n",
       "      <td>0</td>\n",
       "      <td>Yes</td>\n",
       "      <td>Yes</td>\n",
       "      <td>0</td>\n",
       "      <td>Yes</td>\n",
       "      <td>No</td>\n",
       "      <td>No</td>\n",
       "      <td>No internet service</td>\n",
       "      <td>No internet service</td>\n",
       "      <td>No internet service</td>\n",
       "      <td>No internet service</td>\n",
       "      <td>No internet service</td>\n",
       "      <td>No internet service</td>\n",
       "      <td>One year</td>\n",
       "      <td>Yes</td>\n",
       "      <td>Mailed check</td>\n",
       "      <td>19.70</td>\n",
       "      <td></td>\n",
       "      <td>No</td>\n",
       "    </tr>\n",
       "    <tr>\n",
       "      <th>6670</th>\n",
       "      <td>Female</td>\n",
       "      <td>0</td>\n",
       "      <td>Yes</td>\n",
       "      <td>Yes</td>\n",
       "      <td>0</td>\n",
       "      <td>Yes</td>\n",
       "      <td>Yes</td>\n",
       "      <td>DSL</td>\n",
       "      <td>No</td>\n",
       "      <td>Yes</td>\n",
       "      <td>Yes</td>\n",
       "      <td>Yes</td>\n",
       "      <td>Yes</td>\n",
       "      <td>No</td>\n",
       "      <td>Two year</td>\n",
       "      <td>No</td>\n",
       "      <td>Mailed check</td>\n",
       "      <td>73.35</td>\n",
       "      <td></td>\n",
       "      <td>No</td>\n",
       "    </tr>\n",
       "    <tr>\n",
       "      <th>6754</th>\n",
       "      <td>Male</td>\n",
       "      <td>0</td>\n",
       "      <td>No</td>\n",
       "      <td>Yes</td>\n",
       "      <td>0</td>\n",
       "      <td>Yes</td>\n",
       "      <td>Yes</td>\n",
       "      <td>DSL</td>\n",
       "      <td>Yes</td>\n",
       "      <td>Yes</td>\n",
       "      <td>No</td>\n",
       "      <td>Yes</td>\n",
       "      <td>No</td>\n",
       "      <td>No</td>\n",
       "      <td>Two year</td>\n",
       "      <td>Yes</td>\n",
       "      <td>Bank transfer (automatic)</td>\n",
       "      <td>61.90</td>\n",
       "      <td></td>\n",
       "      <td>No</td>\n",
       "    </tr>\n",
       "  </tbody>\n",
       "</table>\n",
       "</div>"
      ],
      "text/plain": [
       "      gender  SeniorCitizen Partner Dependents  tenure PhoneService  \\\n",
       "488   Female              0     Yes        Yes       0           No   \n",
       "753     Male              0      No        Yes       0          Yes   \n",
       "936   Female              0     Yes        Yes       0          Yes   \n",
       "1082    Male              0     Yes        Yes       0          Yes   \n",
       "1340  Female              0     Yes        Yes       0           No   \n",
       "3331    Male              0     Yes        Yes       0          Yes   \n",
       "3826    Male              0     Yes        Yes       0          Yes   \n",
       "4380  Female              0     Yes        Yes       0          Yes   \n",
       "5218    Male              0     Yes        Yes       0          Yes   \n",
       "6670  Female              0     Yes        Yes       0          Yes   \n",
       "6754    Male              0      No        Yes       0          Yes   \n",
       "\n",
       "         MultipleLines InternetService       OnlineSecurity  \\\n",
       "488   No phone service             DSL                  Yes   \n",
       "753                 No              No  No internet service   \n",
       "936                 No             DSL                  Yes   \n",
       "1082               Yes              No  No internet service   \n",
       "1340  No phone service             DSL                  Yes   \n",
       "3331                No              No  No internet service   \n",
       "3826               Yes              No  No internet service   \n",
       "4380                No              No  No internet service   \n",
       "5218                No              No  No internet service   \n",
       "6670               Yes             DSL                   No   \n",
       "6754               Yes             DSL                  Yes   \n",
       "\n",
       "             OnlineBackup     DeviceProtection          TechSupport  \\\n",
       "488                    No                  Yes                  Yes   \n",
       "753   No internet service  No internet service  No internet service   \n",
       "936                   Yes                  Yes                   No   \n",
       "1082  No internet service  No internet service  No internet service   \n",
       "1340                  Yes                  Yes                  Yes   \n",
       "3331  No internet service  No internet service  No internet service   \n",
       "3826  No internet service  No internet service  No internet service   \n",
       "4380  No internet service  No internet service  No internet service   \n",
       "5218  No internet service  No internet service  No internet service   \n",
       "6670                  Yes                  Yes                  Yes   \n",
       "6754                  Yes                   No                  Yes   \n",
       "\n",
       "              StreamingTV      StreamingMovies  Contract PaperlessBilling  \\\n",
       "488                   Yes                   No  Two year              Yes   \n",
       "753   No internet service  No internet service  Two year               No   \n",
       "936                   Yes                  Yes  Two year               No   \n",
       "1082  No internet service  No internet service  Two year               No   \n",
       "1340                  Yes                   No  Two year               No   \n",
       "3331  No internet service  No internet service  Two year               No   \n",
       "3826  No internet service  No internet service  Two year               No   \n",
       "4380  No internet service  No internet service  Two year               No   \n",
       "5218  No internet service  No internet service  One year              Yes   \n",
       "6670                  Yes                   No  Two year               No   \n",
       "6754                   No                   No  Two year              Yes   \n",
       "\n",
       "                  PaymentMethod  MonthlyCharges TotalCharges Churn  \n",
       "488   Bank transfer (automatic)           52.55                 No  \n",
       "753                Mailed check           20.25                 No  \n",
       "936                Mailed check           80.85                 No  \n",
       "1082               Mailed check           25.75                 No  \n",
       "1340    Credit card (automatic)           56.05                 No  \n",
       "3331               Mailed check           19.85                 No  \n",
       "3826               Mailed check           25.35                 No  \n",
       "4380               Mailed check           20.00                 No  \n",
       "5218               Mailed check           19.70                 No  \n",
       "6670               Mailed check           73.35                 No  \n",
       "6754  Bank transfer (automatic)           61.90                 No  "
      ]
     },
     "execution_count": 6,
     "metadata": {},
     "output_type": "execute_result"
    }
   ],
   "source": [
    "df[pd.to_numeric(df.TotalCharges, errors='coerce').isnull()]\n",
    "# 11 rows out of 7000+ rows, we can drop it"
   ]
  },
  {
   "cell_type": "code",
   "execution_count": 7,
   "id": "00fb0c4e",
   "metadata": {},
   "outputs": [
    {
     "data": {
      "text/plain": [
       "' '"
      ]
     },
     "execution_count": 7,
     "metadata": {},
     "output_type": "execute_result"
    }
   ],
   "source": [
    "df.iloc[488]['TotalCharges']"
   ]
  },
  {
   "cell_type": "code",
   "execution_count": 8,
   "id": "193e8449",
   "metadata": {},
   "outputs": [
    {
     "data": {
      "text/plain": [
       "(7032, 20)"
      ]
     },
     "execution_count": 8,
     "metadata": {},
     "output_type": "execute_result"
    }
   ],
   "source": [
    "df1 = df[df.TotalCharges!=' ']\n",
    "df1.shape"
   ]
  },
  {
   "cell_type": "code",
   "execution_count": 9,
   "id": "46d1e49c",
   "metadata": {
    "scrolled": true
   },
   "outputs": [
    {
     "name": "stderr",
     "output_type": "stream",
     "text": [
      "C:\\Users\\星辰\\AppData\\Local\\Temp\\ipykernel_4420\\973151263.py:1: SettingWithCopyWarning: \n",
      "A value is trying to be set on a copy of a slice from a DataFrame.\n",
      "Try using .loc[row_indexer,col_indexer] = value instead\n",
      "\n",
      "See the caveats in the documentation: https://pandas.pydata.org/pandas-docs/stable/user_guide/indexing.html#returning-a-view-versus-a-copy\n",
      "  df1.TotalCharges = pd.to_numeric(df1.TotalCharges)\n"
     ]
    }
   ],
   "source": [
    "df1.TotalCharges = pd.to_numeric(df1.TotalCharges)"
   ]
  },
  {
   "cell_type": "code",
   "execution_count": 10,
   "id": "52fabdce",
   "metadata": {},
   "outputs": [
    {
     "data": {
      "text/plain": [
       "dtype('float64')"
      ]
     },
     "execution_count": 10,
     "metadata": {},
     "output_type": "execute_result"
    }
   ],
   "source": [
    "df1.TotalCharges.dtypes"
   ]
  },
  {
   "cell_type": "code",
   "execution_count": 11,
   "id": "4d83b15d",
   "metadata": {},
   "outputs": [
    {
     "data": {
      "text/plain": [
       "<matplotlib.legend.Legend at 0x1f91c500b20>"
      ]
     },
     "execution_count": 11,
     "metadata": {},
     "output_type": "execute_result"
    },
    {
     "data": {
      "image/png": "[encoded data removed]",
      "text/plain": [
       "<Figure size 640x480 with 1 Axes>"
      ]
     },
     "metadata": {},
     "output_type": "display_data"
    }
   ],
   "source": [
    "# draw a histogram of tenure\n",
    "\n",
    "tenure_churn_no = df1[df1.Churn=='No'].tenure\n",
    "tenure_churn_yes = df1[df1.Churn=='Yes'].tenure\n",
    "\n",
    "plt.xlabel(\"tenure\")\n",
    "plt.ylabel(\"Number Of Customers\")\n",
    "plt.title(\"Customer Churn Prediction Visualiztion\")\n",
    "\n",
    "plt.hist([tenure_churn_yes, tenure_churn_no], color=['green', 'red'], label=['Churn=Yes', 'Churn=No'])\n",
    "plt.legend()"
   ]
  },
  {
   "cell_type": "code",
   "execution_count": 12,
   "id": "cc4643b4",
   "metadata": {},
   "outputs": [
    {
     "data": {
      "text/plain": [
       "<matplotlib.legend.Legend at 0x1f91ca9ba00>"
      ]
     },
     "execution_count": 12,
     "metadata": {},
     "output_type": "execute_result"
    },
    {
     "data": {
      "image/png": "[encoded data removed]",
      "text/plain": [
       "<Figure size 640x480 with 1 Axes>"
      ]
     },
     "metadata": {},
     "output_type": "display_data"
    }
   ],
   "source": [
    "mc_churn_no = df1[df1.Churn=='No'].MonthlyCharges      \n",
    "mc_churn_yes = df1[df1.Churn=='Yes'].MonthlyCharges      \n",
    "\n",
    "plt.xlabel(\"Monthly Charges\")\n",
    "plt.ylabel(\"Number Of Customers\")\n",
    "plt.title(\"Customer Churn Prediction Visualiztion\")\n",
    "\n",
    "plt.hist([mc_churn_yes, mc_churn_no], rwidth=0.95, color=['green','red'],label=['Churn=Yes','Churn=No'])\n",
    "plt.legend()"
   ]
  },
  {
   "cell_type": "code",
   "execution_count": 13,
   "id": "9a6fe9c5",
   "metadata": {},
   "outputs": [
    {
     "name": "stdout",
     "output_type": "stream",
     "text": [
      "gender: ['Female' 'Male']\n",
      "Partner: ['Yes' 'No']\n",
      "Dependents: ['No' 'Yes']\n",
      "PhoneService: ['No' 'Yes']\n",
      "MultipleLines: ['No phone service' 'No' 'Yes']\n",
      "InternetService: ['DSL' 'Fiber optic' 'No']\n",
      "OnlineSecurity: ['No' 'Yes' 'No internet service']\n",
      "OnlineBackup: ['Yes' 'No' 'No internet service']\n",
      "DeviceProtection: ['No' 'Yes' 'No internet service']\n",
      "TechSupport: ['No' 'Yes' 'No internet service']\n",
      "StreamingTV: ['No' 'Yes' 'No internet service']\n",
      "StreamingMovies: ['No' 'Yes' 'No internet service']\n",
      "Contract: ['Month-to-month' 'One year' 'Two year']\n",
      "PaperlessBilling: ['Yes' 'No']\n",
      "PaymentMethod: ['Electronic check' 'Mailed check' 'Bank transfer (automatic)'\n",
      " 'Credit card (automatic)']\n",
      "Churn: ['No' 'Yes']\n"
     ]
    }
   ],
   "source": [
    "def print_unique_col_values(df):\n",
    "    for column in df:\n",
    "        if df[column].dtypes=='object':\n",
    "            print(f'{column}: {df[column].unique()}')\n",
    "            \n",
    "print_unique_col_values(df1)"
   ]
  },
  {
   "cell_type": "code",
   "execution_count": 14,
   "id": "84f2b3e0",
   "metadata": {},
   "outputs": [
    {
     "name": "stdout",
     "output_type": "stream",
     "text": [
      "gender: ['Female' 'Male']\n",
      "Partner: ['Yes' 'No']\n",
      "Dependents: ['No' 'Yes']\n",
      "PhoneService: ['No' 'Yes']\n",
      "MultipleLines: ['No' 'Yes']\n",
      "InternetService: ['DSL' 'Fiber optic' 'No']\n",
      "OnlineSecurity: ['No' 'Yes']\n",
      "OnlineBackup: ['Yes' 'No']\n",
      "DeviceProtection: ['No' 'Yes']\n",
      "TechSupport: ['No' 'Yes']\n",
      "StreamingTV: ['No' 'Yes']\n",
      "StreamingMovies: ['No' 'Yes']\n",
      "Contract: ['Month-to-month' 'One year' 'Two year']\n",
      "PaperlessBilling: ['Yes' 'No']\n",
      "PaymentMethod: ['Electronic check' 'Mailed check' 'Bank transfer (automatic)'\n",
      " 'Credit card (automatic)']\n",
      "Churn: ['No' 'Yes']\n"
     ]
    },
    {
     "name": "stderr",
     "output_type": "stream",
     "text": [
      "C:\\Users\\星辰\\AppData\\Local\\Temp\\ipykernel_4420\\1997594843.py:1: SettingWithCopyWarning: \n",
      "A value is trying to be set on a copy of a slice from a DataFrame\n",
      "\n",
      "See the caveats in the documentation: https://pandas.pydata.org/pandas-docs/stable/user_guide/indexing.html#returning-a-view-versus-a-copy\n",
      "  df1.replace('No internet service','No',inplace=True)\n",
      "C:\\Users\\星辰\\AppData\\Local\\Temp\\ipykernel_4420\\1997594843.py:2: SettingWithCopyWarning: \n",
      "A value is trying to be set on a copy of a slice from a DataFrame\n",
      "\n",
      "See the caveats in the documentation: https://pandas.pydata.org/pandas-docs/stable/user_guide/indexing.html#returning-a-view-versus-a-copy\n",
      "  df1.replace('No phone service','No',inplace=True)\n"
     ]
    }
   ],
   "source": [
    "df1.replace('No internet service','No',inplace=True)\n",
    "df1.replace('No phone service','No',inplace=True)\n",
    "\n",
    "print_unique_col_values(df1)"
   ]
  },
  {
   "cell_type": "code",
   "execution_count": 15,
   "id": "5be4c4fd",
   "metadata": {},
   "outputs": [
    {
     "name": "stdout",
     "output_type": "stream",
     "text": [
      "gender: [1 0]\n",
      "SeniorCitizen: [0 1]\n",
      "Partner: [1 0]\n",
      "Dependents: [0 1]\n",
      "tenure: [ 1 34  2 45  8 22 10 28 62 13 16 58 49 25 69 52 71 21 12 30 47 72 17 27\n",
      "  5 46 11 70 63 43 15 60 18 66  9  3 31 50 64 56  7 42 35 48 29 65 38 68\n",
      " 32 55 37 36 41  6  4 33 67 23 57 61 14 20 53 40 59 24 44 19 54 51 26 39]\n",
      "PhoneService: [0 1]\n",
      "MultipleLines: [0 1]\n",
      "InternetService: ['DSL' 'Fiber optic' 'No']\n",
      "OnlineSecurity: [0 1]\n",
      "OnlineBackup: [1 0]\n",
      "DeviceProtection: [0 1]\n",
      "TechSupport: [0 1]\n",
      "StreamingTV: [0 1]\n",
      "StreamingMovies: [0 1]\n",
      "Contract: ['Month-to-month' 'One year' 'Two year']\n",
      "PaperlessBilling: [1 0]\n",
      "PaymentMethod: ['Electronic check' 'Mailed check' 'Bank transfer (automatic)'\n",
      " 'Credit card (automatic)']\n",
      "MonthlyCharges: [29.85 56.95 53.85 ... 63.1  44.2  78.7 ]\n",
      "TotalCharges: [  29.85 1889.5   108.15 ...  346.45  306.6  6844.5 ]\n",
      "Churn: [0 1]\n"
     ]
    },
    {
     "name": "stderr",
     "output_type": "stream",
     "text": [
      "C:\\Users\\星辰\\AppData\\Local\\Temp\\ipykernel_4420\\3686438052.py:4: SettingWithCopyWarning: \n",
      "A value is trying to be set on a copy of a slice from a DataFrame\n",
      "\n",
      "See the caveats in the documentation: https://pandas.pydata.org/pandas-docs/stable/user_guide/indexing.html#returning-a-view-versus-a-copy\n",
      "  df1[col].replace({'Yes': 1,'No': 0},inplace=True)\n",
      "C:\\Users\\星辰\\AppData\\Local\\Temp\\ipykernel_4420\\3686438052.py:6: SettingWithCopyWarning: \n",
      "A value is trying to be set on a copy of a slice from a DataFrame\n",
      "\n",
      "See the caveats in the documentation: https://pandas.pydata.org/pandas-docs/stable/user_guide/indexing.html#returning-a-view-versus-a-copy\n",
      "  df1['gender'].replace({'Female':1,'Male':0},inplace=True)\n"
     ]
    }
   ],
   "source": [
    "yes_no_columns = ['Partner','Dependents','PhoneService','MultipleLines','OnlineSecurity','OnlineBackup',\n",
    "                  'DeviceProtection','TechSupport','StreamingTV','StreamingMovies','PaperlessBilling','Churn']\n",
    "for col in yes_no_columns:\n",
    "    df1[col].replace({'Yes': 1,'No': 0},inplace=True)\n",
    "\n",
    "df1['gender'].replace({'Female':1,'Male':0},inplace=True)\n",
    "    \n",
    "for col in df1:\n",
    "    print(f'{col}: {df1[col].unique()}') "
   ]
  },
  {
   "cell_type": "code",
   "execution_count": 16,
   "id": "6a33ceda",
   "metadata": {},
   "outputs": [
    {
     "data": {
      "text/plain": [
       "Index(['gender', 'SeniorCitizen', 'Partner', 'Dependents', 'tenure',\n",
       "       'PhoneService', 'MultipleLines', 'OnlineSecurity', 'OnlineBackup',\n",
       "       'DeviceProtection', 'TechSupport', 'StreamingTV', 'StreamingMovies',\n",
       "       'PaperlessBilling', 'MonthlyCharges', 'TotalCharges', 'Churn',\n",
       "       'InternetService_DSL', 'InternetService_Fiber optic',\n",
       "       'InternetService_No', 'Contract_Month-to-month', 'Contract_One year',\n",
       "       'Contract_Two year', 'PaymentMethod_Bank transfer (automatic)',\n",
       "       'PaymentMethod_Credit card (automatic)',\n",
       "       'PaymentMethod_Electronic check', 'PaymentMethod_Mailed check'],\n",
       "      dtype='object')"
      ]
     },
     "execution_count": 16,
     "metadata": {},
     "output_type": "execute_result"
    }
   ],
   "source": [
    "df2 = pd.get_dummies(data=df1, columns=['InternetService','Contract','PaymentMethod'])\n",
    "df2.columns"
   ]
  },
  {
   "cell_type": "code",
   "execution_count": 17,
   "id": "22fe67d4",
   "metadata": {},
   "outputs": [
    {
     "data": {
      "text/html": [
       "<div>\n",
       "<style scoped>\n",
       "    .dataframe tbody tr th:only-of-type {\n",
       "        vertical-align: middle;\n",
       "    }\n",
       "\n",
       "    .dataframe tbody tr th {\n",
       "        vertical-align: top;\n",
       "    }\n",
       "\n",
       "    .dataframe thead th {\n",
       "        text-align: right;\n",
       "    }\n",
       "</style>\n",
       "<table border=\"1\" class=\"dataframe\">\n",
       "  <thead>\n",
       "    <tr style=\"text-align: right;\">\n",
       "      <th></th>\n",
       "      <th>gender</th>\n",
       "      <th>SeniorCitizen</th>\n",
       "      <th>Partner</th>\n",
       "      <th>Dependents</th>\n",
       "      <th>tenure</th>\n",
       "      <th>PhoneService</th>\n",
       "      <th>MultipleLines</th>\n",
       "      <th>OnlineSecurity</th>\n",
       "      <th>OnlineBackup</th>\n",
       "      <th>DeviceProtection</th>\n",
       "      <th>...</th>\n",
       "      <th>InternetService_DSL</th>\n",
       "      <th>InternetService_Fiber optic</th>\n",
       "      <th>InternetService_No</th>\n",
       "      <th>Contract_Month-to-month</th>\n",
       "      <th>Contract_One year</th>\n",
       "      <th>Contract_Two year</th>\n",
       "      <th>PaymentMethod_Bank transfer (automatic)</th>\n",
       "      <th>PaymentMethod_Credit card (automatic)</th>\n",
       "      <th>PaymentMethod_Electronic check</th>\n",
       "      <th>PaymentMethod_Mailed check</th>\n",
       "    </tr>\n",
       "  </thead>\n",
       "  <tbody>\n",
       "    <tr>\n",
       "      <th>2392</th>\n",
       "      <td>0</td>\n",
       "      <td>0</td>\n",
       "      <td>0</td>\n",
       "      <td>0</td>\n",
       "      <td>20</td>\n",
       "      <td>1</td>\n",
       "      <td>1</td>\n",
       "      <td>0</td>\n",
       "      <td>0</td>\n",
       "      <td>1</td>\n",
       "      <td>...</td>\n",
       "      <td>False</td>\n",
       "      <td>True</td>\n",
       "      <td>False</td>\n",
       "      <td>True</td>\n",
       "      <td>False</td>\n",
       "      <td>False</td>\n",
       "      <td>False</td>\n",
       "      <td>True</td>\n",
       "      <td>False</td>\n",
       "      <td>False</td>\n",
       "    </tr>\n",
       "    <tr>\n",
       "      <th>2201</th>\n",
       "      <td>1</td>\n",
       "      <td>0</td>\n",
       "      <td>0</td>\n",
       "      <td>0</td>\n",
       "      <td>36</td>\n",
       "      <td>1</td>\n",
       "      <td>0</td>\n",
       "      <td>1</td>\n",
       "      <td>1</td>\n",
       "      <td>1</td>\n",
       "      <td>...</td>\n",
       "      <td>True</td>\n",
       "      <td>False</td>\n",
       "      <td>False</td>\n",
       "      <td>False</td>\n",
       "      <td>True</td>\n",
       "      <td>False</td>\n",
       "      <td>True</td>\n",
       "      <td>False</td>\n",
       "      <td>False</td>\n",
       "      <td>False</td>\n",
       "    </tr>\n",
       "    <tr>\n",
       "      <th>3445</th>\n",
       "      <td>1</td>\n",
       "      <td>0</td>\n",
       "      <td>1</td>\n",
       "      <td>0</td>\n",
       "      <td>46</td>\n",
       "      <td>1</td>\n",
       "      <td>1</td>\n",
       "      <td>0</td>\n",
       "      <td>1</td>\n",
       "      <td>0</td>\n",
       "      <td>...</td>\n",
       "      <td>False</td>\n",
       "      <td>True</td>\n",
       "      <td>False</td>\n",
       "      <td>False</td>\n",
       "      <td>True</td>\n",
       "      <td>False</td>\n",
       "      <td>False</td>\n",
       "      <td>False</td>\n",
       "      <td>True</td>\n",
       "      <td>False</td>\n",
       "    </tr>\n",
       "    <tr>\n",
       "      <th>3979</th>\n",
       "      <td>0</td>\n",
       "      <td>0</td>\n",
       "      <td>1</td>\n",
       "      <td>1</td>\n",
       "      <td>66</td>\n",
       "      <td>1</td>\n",
       "      <td>1</td>\n",
       "      <td>0</td>\n",
       "      <td>0</td>\n",
       "      <td>0</td>\n",
       "      <td>...</td>\n",
       "      <td>False</td>\n",
       "      <td>False</td>\n",
       "      <td>True</td>\n",
       "      <td>False</td>\n",
       "      <td>False</td>\n",
       "      <td>True</td>\n",
       "      <td>False</td>\n",
       "      <td>True</td>\n",
       "      <td>False</td>\n",
       "      <td>False</td>\n",
       "    </tr>\n",
       "    <tr>\n",
       "      <th>6143</th>\n",
       "      <td>0</td>\n",
       "      <td>0</td>\n",
       "      <td>1</td>\n",
       "      <td>1</td>\n",
       "      <td>50</td>\n",
       "      <td>1</td>\n",
       "      <td>0</td>\n",
       "      <td>0</td>\n",
       "      <td>0</td>\n",
       "      <td>0</td>\n",
       "      <td>...</td>\n",
       "      <td>False</td>\n",
       "      <td>False</td>\n",
       "      <td>True</td>\n",
       "      <td>False</td>\n",
       "      <td>True</td>\n",
       "      <td>False</td>\n",
       "      <td>False</td>\n",
       "      <td>False</td>\n",
       "      <td>False</td>\n",
       "      <td>True</td>\n",
       "    </tr>\n",
       "  </tbody>\n",
       "</table>\n",
       "<p>5 rows × 27 columns</p>\n",
       "</div>"
      ],
      "text/plain": [
       "      gender  SeniorCitizen  Partner  Dependents  tenure  PhoneService  \\\n",
       "2392       0              0        0           0      20             1   \n",
       "2201       1              0        0           0      36             1   \n",
       "3445       1              0        1           0      46             1   \n",
       "3979       0              0        1           1      66             1   \n",
       "6143       0              0        1           1      50             1   \n",
       "\n",
       "      MultipleLines  OnlineSecurity  OnlineBackup  DeviceProtection  ...  \\\n",
       "2392              1               0             0                 1  ...   \n",
       "2201              0               1             1                 1  ...   \n",
       "3445              1               0             1                 0  ...   \n",
       "3979              1               0             0                 0  ...   \n",
       "6143              0               0             0                 0  ...   \n",
       "\n",
       "      InternetService_DSL  InternetService_Fiber optic  InternetService_No  \\\n",
       "2392                False                         True               False   \n",
       "2201                 True                        False               False   \n",
       "3445                False                         True               False   \n",
       "3979                False                        False                True   \n",
       "6143                False                        False                True   \n",
       "\n",
       "      Contract_Month-to-month  Contract_One year  Contract_Two year  \\\n",
       "2392                     True              False              False   \n",
       "2201                    False               True              False   \n",
       "3445                    False               True              False   \n",
       "3979                    False              False               True   \n",
       "6143                    False               True              False   \n",
       "\n",
       "      PaymentMethod_Bank transfer (automatic)  \\\n",
       "2392                                    False   \n",
       "2201                                     True   \n",
       "3445                                    False   \n",
       "3979                                    False   \n",
       "6143                                    False   \n",
       "\n",
       "      PaymentMethod_Credit card (automatic)  PaymentMethod_Electronic check  \\\n",
       "2392                                   True                           False   \n",
       "2201                                  False                           False   \n",
       "3445                                  False                            True   \n",
       "3979                                   True                           False   \n",
       "6143                                  False                           False   \n",
       "\n",
       "      PaymentMethod_Mailed check  \n",
       "2392                       False  \n",
       "2201                       False  \n",
       "3445                       False  \n",
       "3979                       False  \n",
       "6143                        True  \n",
       "\n",
       "[5 rows x 27 columns]"
      ]
     },
     "execution_count": 17,
     "metadata": {},
     "output_type": "execute_result"
    }
   ],
   "source": [
    "df2.sample(5)"
   ]
  },
  {
   "cell_type": "code",
   "execution_count": 18,
   "id": "14389918",
   "metadata": {},
   "outputs": [
    {
     "data": {
      "text/plain": [
       "gender                                       int64\n",
       "SeniorCitizen                                int64\n",
       "Partner                                      int64\n",
       "Dependents                                   int64\n",
       "tenure                                       int64\n",
       "PhoneService                                 int64\n",
       "MultipleLines                                int64\n",
       "OnlineSecurity                               int64\n",
       "OnlineBackup                                 int64\n",
       "DeviceProtection                             int64\n",
       "TechSupport                                  int64\n",
       "StreamingTV                                  int64\n",
       "StreamingMovies                              int64\n",
       "PaperlessBilling                             int64\n",
       "MonthlyCharges                             float64\n",
       "TotalCharges                               float64\n",
       "Churn                                        int64\n",
       "InternetService_DSL                           bool\n",
       "InternetService_Fiber optic                   bool\n",
       "InternetService_No                            bool\n",
       "Contract_Month-to-month                       bool\n",
       "Contract_One year                             bool\n",
       "Contract_Two year                             bool\n",
       "PaymentMethod_Bank transfer (automatic)       bool\n",
       "PaymentMethod_Credit card (automatic)         bool\n",
       "PaymentMethod_Electronic check                bool\n",
       "PaymentMethod_Mailed check                    bool\n",
       "dtype: object"
      ]
     },
     "execution_count": 18,
     "metadata": {},
     "output_type": "execute_result"
    }
   ],
   "source": [
    "df2.dtypes"
   ]
  },
  {
   "cell_type": "code",
   "execution_count": 19,
   "id": "9055c76f",
   "metadata": {},
   "outputs": [
    {
     "name": "stdout",
     "output_type": "stream",
     "text": [
      "gender: [1 0]\n",
      "SeniorCitizen: [0 1]\n",
      "Partner: [1 0]\n",
      "Dependents: [0 1]\n",
      "tenure: [0.         0.46478873 0.01408451 0.61971831 0.09859155 0.29577465\n",
      " 0.12676056 0.38028169 0.85915493 0.16901408 0.21126761 0.8028169\n",
      " 0.67605634 0.33802817 0.95774648 0.71830986 0.98591549 0.28169014\n",
      " 0.15492958 0.4084507  0.64788732 1.         0.22535211 0.36619718\n",
      " 0.05633803 0.63380282 0.14084507 0.97183099 0.87323944 0.5915493\n",
      " 0.1971831  0.83098592 0.23943662 0.91549296 0.11267606 0.02816901\n",
      " 0.42253521 0.69014085 0.88732394 0.77464789 0.08450704 0.57746479\n",
      " 0.47887324 0.66197183 0.3943662  0.90140845 0.52112676 0.94366197\n",
      " 0.43661972 0.76056338 0.50704225 0.49295775 0.56338028 0.07042254\n",
      " 0.04225352 0.45070423 0.92957746 0.30985915 0.78873239 0.84507042\n",
      " 0.18309859 0.26760563 0.73239437 0.54929577 0.81690141 0.32394366\n",
      " 0.6056338  0.25352113 0.74647887 0.70422535 0.35211268 0.53521127]\n",
      "PhoneService: [0 1]\n",
      "MultipleLines: [0 1]\n",
      "OnlineSecurity: [0 1]\n",
      "OnlineBackup: [1 0]\n",
      "DeviceProtection: [0 1]\n",
      "TechSupport: [0 1]\n",
      "StreamingTV: [0 1]\n",
      "StreamingMovies: [0 1]\n",
      "PaperlessBilling: [1 0]\n",
      "MonthlyCharges: [0.11542289 0.38507463 0.35422886 ... 0.44626866 0.25820896 0.60149254]\n",
      "TotalCharges: [0.0012751  0.21586661 0.01031041 ... 0.03780868 0.03321025 0.78764136]\n",
      "Churn: [0 1]\n",
      "InternetService_DSL: [ True False]\n",
      "InternetService_Fiber optic: [False  True]\n",
      "InternetService_No: [False  True]\n",
      "Contract_Month-to-month: [ True False]\n",
      "Contract_One year: [False  True]\n",
      "Contract_Two year: [False  True]\n",
      "PaymentMethod_Bank transfer (automatic): [False  True]\n",
      "PaymentMethod_Credit card (automatic): [False  True]\n",
      "PaymentMethod_Electronic check: [ True False]\n",
      "PaymentMethod_Mailed check: [False  True]\n"
     ]
    }
   ],
   "source": [
    "cols_to_scale = ['tenure','MonthlyCharges','TotalCharges']\n",
    "\n",
    "from sklearn.preprocessing import MinMaxScaler\n",
    "scaler = MinMaxScaler()\n",
    "df2[cols_to_scale] = scaler.fit_transform(df2[cols_to_scale])\n",
    "\n",
    "for col in df2:\n",
    "    print(f'{col}: {df2[col].unique()}')"
   ]
  },
  {
   "cell_type": "markdown",
   "id": "f8163e2e",
   "metadata": {},
   "source": [
    "# Train test spilt"
   ]
  },
  {
   "cell_type": "code",
   "execution_count": 20,
   "id": "91e7d997",
   "metadata": {},
   "outputs": [
    {
     "data": {
      "text/plain": [
       "(5625, 26)"
      ]
     },
     "execution_count": 20,
     "metadata": {},
     "output_type": "execute_result"
    }
   ],
   "source": [
    "X = df2.drop('Churn',axis='columns')\n",
    "y = df2['Churn'].to_frame()\n",
    "\n",
    "from sklearn.model_selection import train_test_split\n",
    "X_train, X_test, y_train, y_test = train_test_split(X, y, test_size=0.2, random_state=5)\n",
    "\n",
    "from keras import backend as K\n",
    "X_train = K.cast_to_floatx(X_train)\n",
    "X_test = K.cast_to_floatx(X_test)\n",
    "y_train = K.cast_to_floatx(y_train)\n",
    "y_test = K.cast_to_floatx(y_test)\n",
    "\n",
    "X_train.shape"
   ]
  },
  {
   "cell_type": "code",
   "execution_count": 21,
   "id": "fb664707",
   "metadata": {},
   "outputs": [
    {
     "data": {
      "text/plain": [
       "(1407, 26)"
      ]
     },
     "execution_count": 21,
     "metadata": {},
     "output_type": "execute_result"
    }
   ],
   "source": [
    "X_test.shape"
   ]
  },
  {
   "cell_type": "code",
   "execution_count": 22,
   "id": "3d1998c3",
   "metadata": {
    "scrolled": true
   },
   "outputs": [
    {
     "data": {
      "text/plain": [
       "array([[1.00000000e+00, 1.00000000e+00, 0.00000000e+00, 0.00000000e+00,\n",
       "        1.26760557e-01, 1.00000000e+00, 0.00000000e+00, 0.00000000e+00,\n",
       "        0.00000000e+00, 1.00000000e+00, 0.00000000e+00, 0.00000000e+00,\n",
       "        1.00000000e+00, 1.00000000e+00, 6.60198987e-01, 9.77094397e-02,\n",
       "        0.00000000e+00, 1.00000000e+00, 0.00000000e+00, 1.00000000e+00,\n",
       "        0.00000000e+00, 0.00000000e+00, 0.00000000e+00, 1.00000000e+00,\n",
       "        0.00000000e+00, 0.00000000e+00],\n",
       "       [1.00000000e+00, 0.00000000e+00, 1.00000000e+00, 1.00000000e+00,\n",
       "        0.00000000e+00, 1.00000000e+00, 0.00000000e+00, 0.00000000e+00,\n",
       "        0.00000000e+00, 0.00000000e+00, 0.00000000e+00, 0.00000000e+00,\n",
       "        0.00000000e+00, 0.00000000e+00, 1.19402986e-02, 7.50057661e-05,\n",
       "        0.00000000e+00, 0.00000000e+00, 1.00000000e+00, 1.00000000e+00,\n",
       "        0.00000000e+00, 0.00000000e+00, 0.00000000e+00, 0.00000000e+00,\n",
       "        1.00000000e+00, 0.00000000e+00],\n",
       "       [0.00000000e+00, 0.00000000e+00, 1.00000000e+00, 0.00000000e+00,\n",
       "        9.85915482e-01, 1.00000000e+00, 0.00000000e+00, 0.00000000e+00,\n",
       "        1.00000000e+00, 1.00000000e+00, 1.00000000e+00, 1.00000000e+00,\n",
       "        1.00000000e+00, 1.00000000e+00, 6.05472624e-01, 6.39978051e-01,\n",
       "        1.00000000e+00, 0.00000000e+00, 0.00000000e+00, 0.00000000e+00,\n",
       "        0.00000000e+00, 1.00000000e+00, 0.00000000e+00, 1.00000000e+00,\n",
       "        0.00000000e+00, 0.00000000e+00],\n",
       "       [1.00000000e+00, 1.00000000e+00, 0.00000000e+00, 0.00000000e+00,\n",
       "        1.40845068e-02, 1.00000000e+00, 0.00000000e+00, 0.00000000e+00,\n",
       "        0.00000000e+00, 0.00000000e+00, 0.00000000e+00, 0.00000000e+00,\n",
       "        0.00000000e+00, 1.00000000e+00, 2.59203970e-01, 8.13524146e-03,\n",
       "        1.00000000e+00, 0.00000000e+00, 0.00000000e+00, 1.00000000e+00,\n",
       "        0.00000000e+00, 0.00000000e+00, 0.00000000e+00, 0.00000000e+00,\n",
       "        1.00000000e+00, 0.00000000e+00],\n",
       "       [0.00000000e+00, 0.00000000e+00, 1.00000000e+00, 0.00000000e+00,\n",
       "        8.16901386e-01, 1.00000000e+00, 1.00000000e+00, 0.00000000e+00,\n",
       "        0.00000000e+00, 1.00000000e+00, 0.00000000e+00, 1.00000000e+00,\n",
       "        1.00000000e+00, 1.00000000e+00, 8.08457732e-01, 6.85702741e-01,\n",
       "        0.00000000e+00, 1.00000000e+00, 0.00000000e+00, 0.00000000e+00,\n",
       "        1.00000000e+00, 0.00000000e+00, 1.00000000e+00, 0.00000000e+00,\n",
       "        0.00000000e+00, 0.00000000e+00],\n",
       "       [1.00000000e+00, 0.00000000e+00, 0.00000000e+00, 0.00000000e+00,\n",
       "        1.69014081e-01, 1.00000000e+00, 0.00000000e+00, 1.00000000e+00,\n",
       "        0.00000000e+00, 0.00000000e+00, 1.00000000e+00, 0.00000000e+00,\n",
       "        0.00000000e+00, 0.00000000e+00, 3.67164165e-01, 8.35564286e-02,\n",
       "        1.00000000e+00, 0.00000000e+00, 0.00000000e+00, 0.00000000e+00,\n",
       "        1.00000000e+00, 0.00000000e+00, 0.00000000e+00, 0.00000000e+00,\n",
       "        0.00000000e+00, 1.00000000e+00],\n",
       "       [0.00000000e+00, 0.00000000e+00, 1.00000000e+00, 0.00000000e+00,\n",
       "        3.23943675e-01, 0.00000000e+00, 0.00000000e+00, 0.00000000e+00,\n",
       "        0.00000000e+00, 1.00000000e+00, 0.00000000e+00, 0.00000000e+00,\n",
       "        0.00000000e+00, 0.00000000e+00, 1.07960202e-01, 7.72213265e-02,\n",
       "        1.00000000e+00, 0.00000000e+00, 0.00000000e+00, 1.00000000e+00,\n",
       "        0.00000000e+00, 0.00000000e+00, 0.00000000e+00, 0.00000000e+00,\n",
       "        1.00000000e+00, 0.00000000e+00],\n",
       "       [1.00000000e+00, 0.00000000e+00, 1.00000000e+00, 0.00000000e+00,\n",
       "        7.04225361e-01, 1.00000000e+00, 0.00000000e+00, 1.00000000e+00,\n",
       "        1.00000000e+00, 0.00000000e+00, 1.00000000e+00, 0.00000000e+00,\n",
       "        0.00000000e+00, 1.00000000e+00, 4.20397997e-01, 3.60760450e-01,\n",
       "        1.00000000e+00, 0.00000000e+00, 0.00000000e+00, 0.00000000e+00,\n",
       "        1.00000000e+00, 0.00000000e+00, 1.00000000e+00, 0.00000000e+00,\n",
       "        0.00000000e+00, 0.00000000e+00],\n",
       "       [0.00000000e+00, 0.00000000e+00, 0.00000000e+00, 0.00000000e+00,\n",
       "        4.22535203e-02, 0.00000000e+00, 0.00000000e+00, 0.00000000e+00,\n",
       "        0.00000000e+00, 0.00000000e+00, 1.00000000e+00, 0.00000000e+00,\n",
       "        0.00000000e+00, 0.00000000e+00, 1.21890545e-01, 1.14931921e-02,\n",
       "        1.00000000e+00, 0.00000000e+00, 0.00000000e+00, 1.00000000e+00,\n",
       "        0.00000000e+00, 0.00000000e+00, 0.00000000e+00, 0.00000000e+00,\n",
       "        1.00000000e+00, 0.00000000e+00],\n",
       "       [0.00000000e+00, 0.00000000e+00, 0.00000000e+00, 0.00000000e+00,\n",
       "        9.85915482e-01, 1.00000000e+00, 1.00000000e+00, 0.00000000e+00,\n",
       "        0.00000000e+00, 0.00000000e+00, 0.00000000e+00, 0.00000000e+00,\n",
       "        0.00000000e+00, 0.00000000e+00, 7.26368129e-02, 2.16858983e-01,\n",
       "        0.00000000e+00, 0.00000000e+00, 1.00000000e+00, 0.00000000e+00,\n",
       "        0.00000000e+00, 1.00000000e+00, 1.00000000e+00, 0.00000000e+00,\n",
       "        0.00000000e+00, 0.00000000e+00]], dtype=float32)"
      ]
     },
     "execution_count": 22,
     "metadata": {},
     "output_type": "execute_result"
    }
   ],
   "source": [
    "X_train[:10]"
   ]
  },
  {
   "cell_type": "code",
   "execution_count": 23,
   "id": "971de417",
   "metadata": {},
   "outputs": [
    {
     "data": {
      "text/plain": [
       "(5625, 26)"
      ]
     },
     "execution_count": 23,
     "metadata": {},
     "output_type": "execute_result"
    }
   ],
   "source": [
    "X_train.shape"
   ]
  },
  {
   "cell_type": "code",
   "execution_count": 24,
   "id": "d22bec60",
   "metadata": {},
   "outputs": [
    {
     "name": "stdout",
     "output_type": "stream",
     "text": [
      "Epoch 1/200\n",
      "176/176 [==============================] - 1s 874us/step - loss: 0.5110 - accuracy: 0.7486\n",
      "Epoch 2/200\n",
      "176/176 [==============================] - 0s 1ms/step - loss: 0.4298 - accuracy: 0.7957\n",
      "Epoch 3/200\n",
      "176/176 [==============================] - 0s 982us/step - loss: 0.4188 - accuracy: 0.8002\n",
      "Epoch 4/200\n",
      "176/176 [==============================] - 0s 1ms/step - loss: 0.4138 - accuracy: 0.8027\n",
      "Epoch 5/200\n",
      "176/176 [==============================] - 0s 989us/step - loss: 0.4101 - accuracy: 0.8044\n",
      "Epoch 6/200\n",
      "176/176 [==============================] - 0s 943us/step - loss: 0.4089 - accuracy: 0.8053\n",
      "Epoch 7/200\n",
      "176/176 [==============================] - 0s 998us/step - loss: 0.4057 - accuracy: 0.8080\n",
      "Epoch 8/200\n",
      "176/176 [==============================] - 0s 920us/step - loss: 0.4047 - accuracy: 0.8096\n",
      "Epoch 9/200\n",
      "176/176 [==============================] - 0s 1ms/step - loss: 0.4036 - accuracy: 0.8100\n",
      "Epoch 10/200\n",
      "176/176 [==============================] - 0s 895us/step - loss: 0.4024 - accuracy: 0.8087\n",
      "Epoch 11/200\n",
      "176/176 [==============================] - 0s 961us/step - loss: 0.4001 - accuracy: 0.8089\n",
      "Epoch 12/200\n",
      "176/176 [==============================] - 0s 792us/step - loss: 0.3986 - accuracy: 0.8116\n",
      "Epoch 13/200\n",
      "176/176 [==============================] - 0s 842us/step - loss: 0.3970 - accuracy: 0.8130\n",
      "Epoch 14/200\n",
      "176/176 [==============================] - 0s 823us/step - loss: 0.3979 - accuracy: 0.8108\n",
      "Epoch 15/200\n",
      "176/176 [==============================] - 0s 947us/step - loss: 0.3956 - accuracy: 0.8123\n",
      "Epoch 16/200\n",
      "176/176 [==============================] - 0s 1ms/step - loss: 0.3941 - accuracy: 0.8108\n",
      "Epoch 17/200\n",
      "176/176 [==============================] - 0s 1ms/step - loss: 0.3936 - accuracy: 0.8119\n",
      "Epoch 18/200\n",
      "176/176 [==============================] - 0s 1ms/step - loss: 0.3918 - accuracy: 0.8164\n",
      "Epoch 19/200\n",
      "176/176 [==============================] - 0s 1ms/step - loss: 0.3914 - accuracy: 0.8146\n",
      "Epoch 20/200\n",
      "176/176 [==============================] - 0s 980us/step - loss: 0.3910 - accuracy: 0.8146\n",
      "Epoch 21/200\n",
      "176/176 [==============================] - 0s 944us/step - loss: 0.3900 - accuracy: 0.8178\n",
      "Epoch 22/200\n",
      "176/176 [==============================] - 0s 791us/step - loss: 0.3893 - accuracy: 0.8146\n",
      "Epoch 23/200\n",
      "176/176 [==============================] - 0s 808us/step - loss: 0.3877 - accuracy: 0.8156\n",
      "Epoch 24/200\n",
      "176/176 [==============================] - 0s 1ms/step - loss: 0.3870 - accuracy: 0.8183\n",
      "Epoch 25/200\n",
      "176/176 [==============================] - 0s 1ms/step - loss: 0.3856 - accuracy: 0.8156\n",
      "Epoch 26/200\n",
      "176/176 [==============================] - 0s 996us/step - loss: 0.3848 - accuracy: 0.8172\n",
      "Epoch 27/200\n",
      "176/176 [==============================] - 0s 889us/step - loss: 0.3836 - accuracy: 0.8219\n",
      "Epoch 28/200\n",
      "176/176 [==============================] - 0s 1ms/step - loss: 0.3839 - accuracy: 0.8210\n",
      "Epoch 29/200\n",
      "176/176 [==============================] - 0s 923us/step - loss: 0.3818 - accuracy: 0.8197\n",
      "Epoch 30/200\n",
      "176/176 [==============================] - 0s 834us/step - loss: 0.3810 - accuracy: 0.8222\n",
      "Epoch 31/200\n",
      "176/176 [==============================] - 0s 856us/step - loss: 0.3800 - accuracy: 0.8251\n",
      "Epoch 32/200\n",
      "176/176 [==============================] - 0s 841us/step - loss: 0.3799 - accuracy: 0.8236\n",
      "Epoch 33/200\n",
      "176/176 [==============================] - 0s 871us/step - loss: 0.3784 - accuracy: 0.8201\n",
      "Epoch 34/200\n",
      "176/176 [==============================] - 0s 851us/step - loss: 0.3779 - accuracy: 0.8226\n",
      "Epoch 35/200\n",
      "176/176 [==============================] - 0s 898us/step - loss: 0.3765 - accuracy: 0.8252\n",
      "Epoch 36/200\n",
      "176/176 [==============================] - 0s 1ms/step - loss: 0.3776 - accuracy: 0.8229\n",
      "Epoch 37/200\n",
      "176/176 [==============================] - 0s 1ms/step - loss: 0.3766 - accuracy: 0.8240\n",
      "Epoch 38/200\n",
      "176/176 [==============================] - 0s 1ms/step - loss: 0.3758 - accuracy: 0.8244\n",
      "Epoch 39/200\n",
      "176/176 [==============================] - 0s 1ms/step - loss: 0.3742 - accuracy: 0.8270\n",
      "Epoch 40/200\n",
      "176/176 [==============================] - 0s 945us/step - loss: 0.3751 - accuracy: 0.8245\n",
      "Epoch 41/200\n",
      "176/176 [==============================] - 0s 896us/step - loss: 0.3730 - accuracy: 0.8272\n",
      "Epoch 42/200\n",
      "176/176 [==============================] - 0s 902us/step - loss: 0.3736 - accuracy: 0.8265\n",
      "Epoch 43/200\n",
      "176/176 [==============================] - 0s 850us/step - loss: 0.3723 - accuracy: 0.8254\n",
      "Epoch 44/200\n",
      "176/176 [==============================] - 0s 1ms/step - loss: 0.3716 - accuracy: 0.8254\n",
      "Epoch 45/200\n",
      "176/176 [==============================] - 0s 1ms/step - loss: 0.3712 - accuracy: 0.8292\n",
      "Epoch 46/200\n",
      "176/176 [==============================] - 0s 1ms/step - loss: 0.3699 - accuracy: 0.8245\n",
      "Epoch 47/200\n",
      "176/176 [==============================] - 0s 1ms/step - loss: 0.3695 - accuracy: 0.8281\n",
      "Epoch 48/200\n",
      "176/176 [==============================] - 0s 995us/step - loss: 0.3689 - accuracy: 0.8288\n",
      "Epoch 49/200\n",
      "176/176 [==============================] - 0s 847us/step - loss: 0.3685 - accuracy: 0.8304\n",
      "Epoch 50/200\n",
      "176/176 [==============================] - 0s 840us/step - loss: 0.3684 - accuracy: 0.8283\n",
      "Epoch 51/200\n",
      "176/176 [==============================] - 0s 882us/step - loss: 0.3675 - accuracy: 0.8297\n",
      "Epoch 52/200\n",
      "176/176 [==============================] - 0s 1ms/step - loss: 0.3675 - accuracy: 0.8297\n",
      "Epoch 53/200\n",
      "176/176 [==============================] - 0s 1ms/step - loss: 0.3674 - accuracy: 0.8288\n",
      "Epoch 54/200\n",
      "176/176 [==============================] - 0s 1ms/step - loss: 0.3667 - accuracy: 0.8308\n",
      "Epoch 55/200\n",
      "176/176 [==============================] - 0s 1ms/step - loss: 0.3646 - accuracy: 0.8318\n",
      "Epoch 56/200\n",
      "176/176 [==============================] - 0s 1ms/step - loss: 0.3655 - accuracy: 0.8331\n",
      "Epoch 57/200\n",
      "176/176 [==============================] - 0s 888us/step - loss: 0.3647 - accuracy: 0.8292\n",
      "Epoch 58/200\n",
      "176/176 [==============================] - 0s 886us/step - loss: 0.3641 - accuracy: 0.8320\n",
      "Epoch 59/200\n",
      "176/176 [==============================] - 0s 1ms/step - loss: 0.3640 - accuracy: 0.8295\n",
      "Epoch 60/200\n",
      "176/176 [==============================] - 0s 961us/step - loss: 0.3631 - accuracy: 0.8295\n",
      "Epoch 61/200\n",
      "176/176 [==============================] - 0s 1ms/step - loss: 0.3624 - accuracy: 0.8320\n",
      "Epoch 62/200\n",
      "176/176 [==============================] - 0s 1ms/step - loss: 0.3625 - accuracy: 0.8295\n",
      "Epoch 63/200\n",
      "176/176 [==============================] - 0s 1ms/step - loss: 0.3615 - accuracy: 0.8286\n",
      "Epoch 64/200\n",
      "176/176 [==============================] - 0s 1ms/step - loss: 0.3622 - accuracy: 0.8331\n",
      "Epoch 65/200\n",
      "176/176 [==============================] - 0s 1ms/step - loss: 0.3611 - accuracy: 0.8343\n",
      "Epoch 66/200\n",
      "176/176 [==============================] - 0s 1ms/step - loss: 0.3619 - accuracy: 0.8338\n",
      "Epoch 67/200\n",
      "176/176 [==============================] - 0s 1ms/step - loss: 0.3602 - accuracy: 0.8329\n",
      "Epoch 68/200\n",
      "176/176 [==============================] - 0s 994us/step - loss: 0.3601 - accuracy: 0.8316\n",
      "Epoch 69/200\n",
      "176/176 [==============================] - 0s 1ms/step - loss: 0.3607 - accuracy: 0.8334\n",
      "Epoch 70/200\n",
      "176/176 [==============================] - 0s 1ms/step - loss: 0.3592 - accuracy: 0.8332\n",
      "Epoch 71/200\n",
      "176/176 [==============================] - 0s 1ms/step - loss: 0.3583 - accuracy: 0.8343\n",
      "Epoch 72/200\n",
      "176/176 [==============================] - 0s 997us/step - loss: 0.3580 - accuracy: 0.8345\n",
      "Epoch 73/200\n",
      "176/176 [==============================] - 0s 1ms/step - loss: 0.3575 - accuracy: 0.8347\n",
      "Epoch 74/200\n",
      "176/176 [==============================] - 0s 1ms/step - loss: 0.3572 - accuracy: 0.8331\n",
      "Epoch 75/200\n",
      "176/176 [==============================] - 0s 1ms/step - loss: 0.3572 - accuracy: 0.8327\n",
      "Epoch 76/200\n",
      "176/176 [==============================] - 0s 1ms/step - loss: 0.3567 - accuracy: 0.8340\n",
      "Epoch 77/200\n",
      "176/176 [==============================] - 0s 1000us/step - loss: 0.3572 - accuracy: 0.8331\n",
      "Epoch 78/200\n",
      "176/176 [==============================] - 0s 1ms/step - loss: 0.3563 - accuracy: 0.8375\n",
      "Epoch 79/200\n",
      "176/176 [==============================] - 0s 994us/step - loss: 0.3582 - accuracy: 0.8361\n",
      "Epoch 80/200\n"
     ]
    },
    {
     "name": "stdout",
     "output_type": "stream",
     "text": [
      "176/176 [==============================] - 0s 1ms/step - loss: 0.3551 - accuracy: 0.8352\n",
      "Epoch 81/200\n",
      "176/176 [==============================] - 0s 1ms/step - loss: 0.3549 - accuracy: 0.8372\n",
      "Epoch 82/200\n",
      "176/176 [==============================] - 0s 950us/step - loss: 0.3547 - accuracy: 0.8347\n",
      "Epoch 83/200\n",
      "176/176 [==============================] - 0s 947us/step - loss: 0.3543 - accuracy: 0.8361\n",
      "Epoch 84/200\n",
      "176/176 [==============================] - 0s 963us/step - loss: 0.3541 - accuracy: 0.8366\n",
      "Epoch 85/200\n",
      "176/176 [==============================] - 0s 1ms/step - loss: 0.3533 - accuracy: 0.8356\n",
      "Epoch 86/200\n",
      "176/176 [==============================] - 0s 955us/step - loss: 0.3537 - accuracy: 0.8364\n",
      "Epoch 87/200\n",
      "176/176 [==============================] - 0s 967us/step - loss: 0.3534 - accuracy: 0.8363\n",
      "Epoch 88/200\n",
      "176/176 [==============================] - 0s 1ms/step - loss: 0.3513 - accuracy: 0.8364\n",
      "Epoch 89/200\n",
      "176/176 [==============================] - 0s 1ms/step - loss: 0.3526 - accuracy: 0.8354\n",
      "Epoch 90/200\n",
      "176/176 [==============================] - 0s 902us/step - loss: 0.3510 - accuracy: 0.8359\n",
      "Epoch 91/200\n",
      "176/176 [==============================] - 0s 857us/step - loss: 0.3511 - accuracy: 0.8350\n",
      "Epoch 92/200\n",
      "176/176 [==============================] - 0s 892us/step - loss: 0.3518 - accuracy: 0.8379\n",
      "Epoch 93/200\n",
      "176/176 [==============================] - 0s 1ms/step - loss: 0.3507 - accuracy: 0.8393\n",
      "Epoch 94/200\n",
      "176/176 [==============================] - 0s 849us/step - loss: 0.3496 - accuracy: 0.8393\n",
      "Epoch 95/200\n",
      "176/176 [==============================] - 0s 885us/step - loss: 0.3494 - accuracy: 0.8380\n",
      "Epoch 96/200\n",
      "176/176 [==============================] - 0s 780us/step - loss: 0.3492 - accuracy: 0.8391\n",
      "Epoch 97/200\n",
      "176/176 [==============================] - 0s 803us/step - loss: 0.3498 - accuracy: 0.8405\n",
      "Epoch 98/200\n",
      "176/176 [==============================] - 0s 1ms/step - loss: 0.3485 - accuracy: 0.8389\n",
      "Epoch 99/200\n",
      "176/176 [==============================] - 0s 953us/step - loss: 0.3479 - accuracy: 0.8347\n",
      "Epoch 100/200\n",
      "176/176 [==============================] - 0s 972us/step - loss: 0.3476 - accuracy: 0.8363\n",
      "Epoch 101/200\n",
      "176/176 [==============================] - 0s 957us/step - loss: 0.3479 - accuracy: 0.8377\n",
      "Epoch 102/200\n",
      "176/176 [==============================] - 0s 1ms/step - loss: 0.3478 - accuracy: 0.8386\n",
      "Epoch 103/200\n",
      "176/176 [==============================] - 0s 977us/step - loss: 0.3472 - accuracy: 0.8350\n",
      "Epoch 104/200\n",
      "176/176 [==============================] - 0s 1ms/step - loss: 0.3485 - accuracy: 0.8356\n",
      "Epoch 105/200\n",
      "176/176 [==============================] - 0s 996us/step - loss: 0.3464 - accuracy: 0.8393\n",
      "Epoch 106/200\n",
      "176/176 [==============================] - 0s 988us/step - loss: 0.3467 - accuracy: 0.8395\n",
      "Epoch 107/200\n",
      "176/176 [==============================] - 0s 1ms/step - loss: 0.3448 - accuracy: 0.8407\n",
      "Epoch 108/200\n",
      "176/176 [==============================] - 0s 959us/step - loss: 0.3448 - accuracy: 0.8384\n",
      "Epoch 109/200\n",
      "176/176 [==============================] - 0s 906us/step - loss: 0.3449 - accuracy: 0.8388\n",
      "Epoch 110/200\n",
      "176/176 [==============================] - 0s 900us/step - loss: 0.3451 - accuracy: 0.8409\n",
      "Epoch 111/200\n",
      "176/176 [==============================] - 0s 1ms/step - loss: 0.3437 - accuracy: 0.8391\n",
      "Epoch 112/200\n",
      "176/176 [==============================] - 0s 1ms/step - loss: 0.3440 - accuracy: 0.8412\n",
      "Epoch 113/200\n",
      "176/176 [==============================] - 0s 1ms/step - loss: 0.3440 - accuracy: 0.8382\n",
      "Epoch 114/200\n",
      "176/176 [==============================] - 0s 1ms/step - loss: 0.3424 - accuracy: 0.8416\n",
      "Epoch 115/200\n",
      "176/176 [==============================] - 0s 1ms/step - loss: 0.3423 - accuracy: 0.8405\n",
      "Epoch 116/200\n",
      "176/176 [==============================] - 0s 1ms/step - loss: 0.3411 - accuracy: 0.8402\n",
      "Epoch 117/200\n",
      "176/176 [==============================] - 0s 1ms/step - loss: 0.3415 - accuracy: 0.8402\n",
      "Epoch 118/200\n",
      "176/176 [==============================] - 0s 1ms/step - loss: 0.3428 - accuracy: 0.8398\n",
      "Epoch 119/200\n",
      "176/176 [==============================] - 0s 1ms/step - loss: 0.3407 - accuracy: 0.8436\n",
      "Epoch 120/200\n",
      "176/176 [==============================] - 0s 1ms/step - loss: 0.3408 - accuracy: 0.8418\n",
      "Epoch 121/200\n",
      "176/176 [==============================] - 0s 1ms/step - loss: 0.3396 - accuracy: 0.8421\n",
      "Epoch 122/200\n",
      "176/176 [==============================] - 0s 936us/step - loss: 0.3399 - accuracy: 0.8391\n",
      "Epoch 123/200\n",
      "176/176 [==============================] - 0s 1ms/step - loss: 0.3395 - accuracy: 0.8427\n",
      "Epoch 124/200\n",
      "176/176 [==============================] - 0s 942us/step - loss: 0.3391 - accuracy: 0.8432\n",
      "Epoch 125/200\n",
      "176/176 [==============================] - 0s 1ms/step - loss: 0.3393 - accuracy: 0.8412\n",
      "Epoch 126/200\n",
      "176/176 [==============================] - 0s 1ms/step - loss: 0.3385 - accuracy: 0.8475\n",
      "Epoch 127/200\n",
      "176/176 [==============================] - 0s 892us/step - loss: 0.3373 - accuracy: 0.8411\n",
      "Epoch 128/200\n",
      "176/176 [==============================] - 0s 999us/step - loss: 0.3369 - accuracy: 0.8407\n",
      "Epoch 129/200\n",
      "176/176 [==============================] - 0s 1ms/step - loss: 0.3367 - accuracy: 0.8407\n",
      "Epoch 130/200\n",
      "176/176 [==============================] - 0s 919us/step - loss: 0.3370 - accuracy: 0.8418\n",
      "Epoch 131/200\n",
      "176/176 [==============================] - 0s 894us/step - loss: 0.3366 - accuracy: 0.8400\n",
      "Epoch 132/200\n",
      "176/176 [==============================] - 0s 1ms/step - loss: 0.3357 - accuracy: 0.8405\n",
      "Epoch 133/200\n",
      "176/176 [==============================] - 0s 945us/step - loss: 0.3361 - accuracy: 0.8443\n",
      "Epoch 134/200\n",
      "176/176 [==============================] - 0s 1ms/step - loss: 0.3361 - accuracy: 0.8416\n",
      "Epoch 135/200\n",
      "176/176 [==============================] - 0s 1ms/step - loss: 0.3342 - accuracy: 0.8459\n",
      "Epoch 136/200\n",
      "176/176 [==============================] - 0s 1ms/step - loss: 0.3336 - accuracy: 0.8418\n",
      "Epoch 137/200\n",
      "176/176 [==============================] - 0s 952us/step - loss: 0.3334 - accuracy: 0.8427\n",
      "Epoch 138/200\n",
      "176/176 [==============================] - 0s 888us/step - loss: 0.3336 - accuracy: 0.8436\n",
      "Epoch 139/200\n",
      "176/176 [==============================] - 0s 996us/step - loss: 0.3327 - accuracy: 0.8457\n",
      "Epoch 140/200\n",
      "176/176 [==============================] - 0s 951us/step - loss: 0.3321 - accuracy: 0.8425\n",
      "Epoch 141/200\n",
      "176/176 [==============================] - 0s 993us/step - loss: 0.3333 - accuracy: 0.8427\n",
      "Epoch 142/200\n",
      "176/176 [==============================] - 0s 854us/step - loss: 0.3325 - accuracy: 0.8455\n",
      "Epoch 143/200\n",
      "176/176 [==============================] - 0s 980us/step - loss: 0.3325 - accuracy: 0.8436\n",
      "Epoch 144/200\n",
      "176/176 [==============================] - 0s 952us/step - loss: 0.3308 - accuracy: 0.8466\n",
      "Epoch 145/200\n",
      "176/176 [==============================] - 0s 1ms/step - loss: 0.3310 - accuracy: 0.8452\n",
      "Epoch 146/200\n",
      "176/176 [==============================] - 0s 995us/step - loss: 0.3310 - accuracy: 0.8414\n",
      "Epoch 147/200\n",
      "176/176 [==============================] - 0s 1ms/step - loss: 0.3299 - accuracy: 0.8455\n",
      "Epoch 148/200\n",
      "176/176 [==============================] - 0s 1ms/step - loss: 0.3304 - accuracy: 0.8416\n",
      "Epoch 149/200\n",
      "176/176 [==============================] - 0s 1ms/step - loss: 0.3296 - accuracy: 0.8446\n",
      "Epoch 150/200\n",
      "176/176 [==============================] - 0s 865us/step - loss: 0.3276 - accuracy: 0.8498\n",
      "Epoch 151/200\n",
      "176/176 [==============================] - 0s 896us/step - loss: 0.3287 - accuracy: 0.8455\n",
      "Epoch 152/200\n",
      "176/176 [==============================] - 0s 1ms/step - loss: 0.3281 - accuracy: 0.8459\n",
      "Epoch 153/200\n",
      "176/176 [==============================] - 0s 1ms/step - loss: 0.3285 - accuracy: 0.8434\n",
      "Epoch 154/200\n",
      "176/176 [==============================] - 0s 1ms/step - loss: 0.3282 - accuracy: 0.8446\n",
      "Epoch 155/200\n",
      "176/176 [==============================] - 0s 1ms/step - loss: 0.3283 - accuracy: 0.8469\n",
      "Epoch 156/200\n",
      "176/176 [==============================] - 0s 1ms/step - loss: 0.3263 - accuracy: 0.8485\n",
      "Epoch 157/200\n",
      "176/176 [==============================] - 0s 1ms/step - loss: 0.3262 - accuracy: 0.8455\n",
      "Epoch 158/200\n",
      "176/176 [==============================] - 0s 1ms/step - loss: 0.3258 - accuracy: 0.8494\n",
      "Epoch 159/200\n"
     ]
    },
    {
     "name": "stdout",
     "output_type": "stream",
     "text": [
      "176/176 [==============================] - 0s 903us/step - loss: 0.3259 - accuracy: 0.8478\n",
      "Epoch 160/200\n",
      "176/176 [==============================] - 0s 925us/step - loss: 0.3255 - accuracy: 0.8457\n",
      "Epoch 161/200\n",
      "176/176 [==============================] - 0s 988us/step - loss: 0.3254 - accuracy: 0.8476\n",
      "Epoch 162/200\n",
      "176/176 [==============================] - 0s 1ms/step - loss: 0.3251 - accuracy: 0.8521\n",
      "Epoch 163/200\n",
      "176/176 [==============================] - 0s 871us/step - loss: 0.3240 - accuracy: 0.8492\n",
      "Epoch 164/200\n",
      "176/176 [==============================] - 0s 810us/step - loss: 0.3249 - accuracy: 0.8480\n",
      "Epoch 165/200\n",
      "176/176 [==============================] - 0s 966us/step - loss: 0.3246 - accuracy: 0.8500\n",
      "Epoch 166/200\n",
      "176/176 [==============================] - 0s 903us/step - loss: 0.3242 - accuracy: 0.8468\n",
      "Epoch 167/200\n",
      "176/176 [==============================] - 0s 909us/step - loss: 0.3223 - accuracy: 0.8508\n",
      "Epoch 168/200\n",
      "176/176 [==============================] - 0s 921us/step - loss: 0.3223 - accuracy: 0.8498\n",
      "Epoch 169/200\n",
      "176/176 [==============================] - 0s 1ms/step - loss: 0.3226 - accuracy: 0.8498\n",
      "Epoch 170/200\n",
      "176/176 [==============================] - 0s 1ms/step - loss: 0.3215 - accuracy: 0.8508\n",
      "Epoch 171/200\n",
      "176/176 [==============================] - 0s 1ms/step - loss: 0.3224 - accuracy: 0.8466\n",
      "Epoch 172/200\n",
      "176/176 [==============================] - 0s 1ms/step - loss: 0.3218 - accuracy: 0.8498\n",
      "Epoch 173/200\n",
      "176/176 [==============================] - 0s 823us/step - loss: 0.3217 - accuracy: 0.8475\n",
      "Epoch 174/200\n",
      "176/176 [==============================] - 0s 931us/step - loss: 0.3203 - accuracy: 0.8503\n",
      "Epoch 175/200\n",
      "176/176 [==============================] - 0s 846us/step - loss: 0.3198 - accuracy: 0.8514\n",
      "Epoch 176/200\n",
      "176/176 [==============================] - 0s 992us/step - loss: 0.3210 - accuracy: 0.8485\n",
      "Epoch 177/200\n",
      "176/176 [==============================] - 0s 1ms/step - loss: 0.3204 - accuracy: 0.8523\n",
      "Epoch 178/200\n",
      "176/176 [==============================] - 0s 1ms/step - loss: 0.3204 - accuracy: 0.8521\n",
      "Epoch 179/200\n",
      "176/176 [==============================] - 0s 990us/step - loss: 0.3203 - accuracy: 0.8526\n",
      "Epoch 180/200\n",
      "176/176 [==============================] - 0s 858us/step - loss: 0.3195 - accuracy: 0.8548\n",
      "Epoch 181/200\n",
      "176/176 [==============================] - 0s 1ms/step - loss: 0.3190 - accuracy: 0.8523\n",
      "Epoch 182/200\n",
      "176/176 [==============================] - 0s 963us/step - loss: 0.3192 - accuracy: 0.8498\n",
      "Epoch 183/200\n",
      "176/176 [==============================] - 0s 831us/step - loss: 0.3186 - accuracy: 0.8516\n",
      "Epoch 184/200\n",
      "176/176 [==============================] - 0s 797us/step - loss: 0.3176 - accuracy: 0.8526\n",
      "Epoch 185/200\n",
      "176/176 [==============================] - 0s 981us/step - loss: 0.3181 - accuracy: 0.8507\n",
      "Epoch 186/200\n",
      "176/176 [==============================] - 0s 969us/step - loss: 0.3181 - accuracy: 0.8516\n",
      "Epoch 187/200\n",
      "176/176 [==============================] - 0s 1ms/step - loss: 0.3172 - accuracy: 0.8528\n",
      "Epoch 188/200\n",
      "176/176 [==============================] - 0s 1ms/step - loss: 0.3164 - accuracy: 0.8549\n",
      "Epoch 189/200\n",
      "176/176 [==============================] - 0s 1ms/step - loss: 0.3169 - accuracy: 0.8537\n",
      "Epoch 190/200\n",
      "176/176 [==============================] - 0s 922us/step - loss: 0.3176 - accuracy: 0.8546\n",
      "Epoch 191/200\n",
      "176/176 [==============================] - 0s 939us/step - loss: 0.3163 - accuracy: 0.8542\n",
      "Epoch 192/200\n",
      "176/176 [==============================] - 0s 929us/step - loss: 0.3166 - accuracy: 0.8521\n",
      "Epoch 193/200\n",
      "176/176 [==============================] - 0s 951us/step - loss: 0.3170 - accuracy: 0.8530\n",
      "Epoch 194/200\n",
      "176/176 [==============================] - 0s 1ms/step - loss: 0.3159 - accuracy: 0.8533\n",
      "Epoch 195/200\n",
      "176/176 [==============================] - 0s 1ms/step - loss: 0.3152 - accuracy: 0.8548\n",
      "Epoch 196/200\n",
      "176/176 [==============================] - 0s 862us/step - loss: 0.3146 - accuracy: 0.8533\n",
      "Epoch 197/200\n",
      "176/176 [==============================] - 0s 860us/step - loss: 0.3152 - accuracy: 0.8569\n",
      "Epoch 198/200\n",
      "176/176 [==============================] - 0s 992us/step - loss: 0.3141 - accuracy: 0.8553\n",
      "Epoch 199/200\n",
      "176/176 [==============================] - 0s 1ms/step - loss: 0.3139 - accuracy: 0.8533\n",
      "Epoch 200/200\n",
      "176/176 [==============================] - 0s 1ms/step - loss: 0.3133 - accuracy: 0.8524\n"
     ]
    },
    {
     "data": {
      "text/plain": [
       "<keras.callbacks.History at 0x1f937a22a60>"
      ]
     },
     "execution_count": 24,
     "metadata": {},
     "output_type": "execute_result"
    }
   ],
   "source": [
    "import tensorflow as tf\n",
    "from tensorflow import keras\n",
    "\n",
    "\n",
    "model = keras.Sequential([\n",
    "    # input\n",
    "    keras.layers.Dense(26, input_shape=(26,), activation='relu'),\n",
    "    # hidden\n",
    "    keras.layers.Dense(15, activation='relu'),\n",
    "    # output\n",
    "    keras.layers.Dense(1, activation='sigmoid')\n",
    "])\n",
    "\n",
    "# opt = keras.optimizers.Adam(learning_rate=0.01)\n",
    "\n",
    "model.compile(optimizer='adam',\n",
    "              loss='binary_crossentropy',\n",
    "              metrics=['accuracy'])\n",
    "\n",
    "model.fit(X_train, y_train, epochs=200)"
   ]
  },
  {
   "cell_type": "code",
   "execution_count": 25,
   "id": "7e9805bf",
   "metadata": {
    "scrolled": true
   },
   "outputs": [
    {
     "name": "stdout",
     "output_type": "stream",
     "text": [
      "44/44 [==============================] - 0s 999us/step - loss: 0.5675 - accuracy: 0.7548\n"
     ]
    },
    {
     "data": {
      "text/plain": [
       "[0.5674992203712463, 0.7547974586486816]"
      ]
     },
     "execution_count": 25,
     "metadata": {},
     "output_type": "execute_result"
    }
   ],
   "source": [
    "model.evaluate(X_test, y_test)"
   ]
  },
  {
   "cell_type": "code",
   "execution_count": 26,
   "id": "5ce27503",
   "metadata": {},
   "outputs": [
    {
     "name": "stdout",
     "output_type": "stream",
     "text": [
      "44/44 [==============================] - 0s 909us/step\n"
     ]
    },
    {
     "data": {
      "text/plain": [
       "array([[0.09960306],\n",
       "       [0.5740318 ],\n",
       "       [0.00577213],\n",
       "       [0.77247465],\n",
       "       [0.518224  ]], dtype=float32)"
      ]
     },
     "execution_count": 26,
     "metadata": {},
     "output_type": "execute_result"
    }
   ],
   "source": [
    "yp = model.predict(X_test)\n",
    "yp[:5]"
   ]
  },
  {
   "cell_type": "code",
   "execution_count": 27,
   "id": "89ceaf58",
   "metadata": {},
   "outputs": [
    {
     "data": {
      "text/plain": [
       "array([[0.],\n",
       "       [0.],\n",
       "       [1.],\n",
       "       [1.],\n",
       "       [1.],\n",
       "       [1.],\n",
       "       [0.],\n",
       "       [0.],\n",
       "       [0.],\n",
       "       [0.]], dtype=float32)"
      ]
     },
     "execution_count": 27,
     "metadata": {},
     "output_type": "execute_result"
    }
   ],
   "source": [
    "y_test[:10]"
   ]
  },
  {
   "cell_type": "code",
   "execution_count": 28,
   "id": "b18d0193",
   "metadata": {},
   "outputs": [
    {
     "data": {
      "text/plain": [
       "[0, 1, 0, 1, 1, 1, 0, 0, 0, 1]"
      ]
     },
     "execution_count": 28,
     "metadata": {},
     "output_type": "execute_result"
    }
   ],
   "source": [
    "y_pred = []\n",
    "for element in yp:\n",
    "    if element > 0.5:\n",
    "        y_pred.append(1)\n",
    "    else:\n",
    "        y_pred.append(0)\n",
    "        \n",
    "y_pred[:10]"
   ]
  },
  {
   "cell_type": "code",
   "execution_count": 29,
   "id": "c8162e33",
   "metadata": {
    "scrolled": true
   },
   "outputs": [
    {
     "name": "stdout",
     "output_type": "stream",
     "text": [
      "              precision    recall  f1-score   support\n",
      "\n",
      "         0.0       0.81      0.85      0.83       999\n",
      "         1.0       0.59      0.53      0.55       408\n",
      "\n",
      "    accuracy                           0.75      1407\n",
      "   macro avg       0.70      0.69      0.69      1407\n",
      "weighted avg       0.75      0.75      0.75      1407\n",
      "\n"
     ]
    }
   ],
   "source": [
    "from sklearn.metrics import confusion_matrix , classification_report\n",
    "\n",
    "print(classification_report(y_test,y_pred))"
   ]
  },
  {
   "cell_type": "code",
   "execution_count": 30,
   "id": "129a87c3",
   "metadata": {},
   "outputs": [
    {
     "data": {
      "text/plain": [
       "Text(95.72222222222221, 0.5, 'Truth')"
      ]
     },
     "execution_count": 30,
     "metadata": {},
     "output_type": "execute_result"
    },
    {
     "data": {
      "image/png": "[encoded data removed]",
      "text/plain": [
       "<Figure size 1000x700 with 2 Axes>"
      ]
     },
     "metadata": {},
     "output_type": "display_data"
    }
   ],
   "source": [
    "import seaborn as sn\n",
    "cm = tf.math.confusion_matrix(labels=y_test,predictions=y_pred)\n",
    "\n",
    "plt.figure(figsize = (10,7))\n",
    "sn.heatmap(cm, annot=True, fmt='d')\n",
    "plt.xlabel('Predicted')\n",
    "plt.ylabel('Truth')"
   ]
  },
  {
   "cell_type": "code",
   "execution_count": 36,
   "id": "29770260",
   "metadata": {},
   "outputs": [
    {
     "data": {
      "text/plain": [
       "0.75"
      ]
     },
     "execution_count": 36,
     "metadata": {},
     "output_type": "execute_result"
    }
   ],
   "source": [
    "# accuracy for total\n",
    "\n",
    "round((847+215)/(847+215+193+152),2)"
   ]
  },
  {
   "cell_type": "code",
   "execution_count": 37,
   "id": "cc3831b8",
   "metadata": {},
   "outputs": [
    {
     "data": {
      "text/plain": [
       "0.81"
      ]
     },
     "execution_count": 37,
     "metadata": {},
     "output_type": "execute_result"
    }
   ],
   "source": [
    "# precision for 0 class\n",
    "# truth = 0\n",
    "\n",
    "round(847/(847+193),2)"
   ]
  },
  {
   "cell_type": "code",
   "execution_count": 38,
   "id": "a0657799",
   "metadata": {},
   "outputs": [
    {
     "data": {
      "text/plain": [
       "0.59"
      ]
     },
     "execution_count": 38,
     "metadata": {},
     "output_type": "execute_result"
    }
   ],
   "source": [
    "# precision for 1 class\n",
    "# truth = 1\n",
    "\n",
    "round(215/(215+152),2)"
   ]
  },
  {
   "cell_type": "code",
   "execution_count": 39,
   "id": "d0e51504",
   "metadata": {},
   "outputs": [
    {
     "data": {
      "text/plain": [
       "0.85"
      ]
     },
     "execution_count": 39,
     "metadata": {},
     "output_type": "execute_result"
    }
   ],
   "source": [
    "# recall for 0 class\n",
    "# truth = 0\n",
    "\n",
    "round(847/(847+152),2)"
   ]
  },
  {
   "cell_type": "code",
   "execution_count": 40,
   "id": "77f960ae",
   "metadata": {},
   "outputs": [
    {
     "data": {
      "text/plain": [
       "0.53"
      ]
     },
     "execution_count": 40,
     "metadata": {},
     "output_type": "execute_result"
    }
   ],
   "source": [
    "# recall for 1 class\n",
    "# truth = 1\n",
    "\n",
    "round(215/(215+193),2)"
   ]
  }
 ],
 "metadata": {
  "kernelspec": {
   "display_name": "Python 3 (ipykernel)",
   "language": "python",
   "name": "python3"
  },
  "language_info": {
   "codemirror_mode": {
    "name": "ipython",
    "version": 3
   },
   "file_extension": ".py",
   "mimetype": "text/x-python",
   "name": "python",
   "nbconvert_exporter": "python",
   "pygments_lexer": "ipython3",
   "version": "3.9.6"
  }
 },
 "nbformat": 4,
 "nbformat_minor": 5
}
